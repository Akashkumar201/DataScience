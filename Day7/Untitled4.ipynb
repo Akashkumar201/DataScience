{
 "cells": [
  {
   "cell_type": "code",
   "execution_count": 34,
   "metadata": {},
   "outputs": [],
   "source": [
    "from queue import Queue\n",
    "\n",
    "def check_num(number):\n",
    "    queue=Queue(5)\n",
    "    output=0\n",
    "    out_queue=Queue(5)\n",
    "    out_queue.put(1)\n",
    "    while number>0:\n",
    "        queue.put(number%10)\n",
    "        number//=10\n",
    "    while not queue.empty():\n",
    "        val=queue.get()\n",
    "        print(\"val\",val)\n",
    "        output=output+(val*val)\n",
    "        print(\"output\",output)\n",
    "        num=out_queue.get()\n",
    "        print(\"num\",num)\n",
    "        if output%2 !=0:\n",
    "            out_queue.put(output+num)\n",
    "            print(\"True Condintion so value is \",num+output)\n",
    "        else :\n",
    "            out_queue.put(val+num)\n",
    "            print(\"False Condintion so value is \",val+output)\n",
    "        \n",
    "    while not out_queue.empty():\n",
    "        print(out_queue.get())"
   ]
  },
  {
   "cell_type": "code",
   "execution_count": 35,
   "metadata": {},
   "outputs": [
    {
     "name": "stdout",
     "output_type": "stream",
     "text": [
      "val 1\n",
      "output 1\n",
      "num 1\n",
      "True Condintion so value is  2\n",
      "val 2\n",
      "output 5\n",
      "num 2\n",
      "True Condintion so value is  7\n",
      "val 5\n",
      "output 30\n",
      "num 7\n",
      "False Condintion so value is  35\n",
      "12\n"
     ]
    }
   ],
   "source": [
    "check_num(521)"
   ]
  },
  {
   "cell_type": "code",
   "execution_count": 20,
   "metadata": {},
   "outputs": [
    {
     "name": "stdout",
     "output_type": "stream",
     "text": [
      "2\n"
     ]
    }
   ],
   "source": [
    "while not val.empty():\n",
    "    print(val.get())"
   ]
  },
  {
   "cell_type": "code",
   "execution_count": null,
   "metadata": {},
   "outputs": [],
   "source": []
  },
  {
   "cell_type": "code",
   "execution_count": null,
   "metadata": {},
   "outputs": [],
   "source": []
  },
  {
   "cell_type": "code",
   "execution_count": 2,
   "metadata": {},
   "outputs": [],
   "source": [
    "from queue import Queue\n",
    "\n",
    "def check_num(queue):\n",
    "    out=Queue(5)\n",
    "    output=0\n",
    " \n",
    "    while (not queue.empty()):\n",
    "        val=queue.get()\n",
    "        \n",
    "        if (not queue.empty()):\n",
    "            temp=queue.get()\n",
    "            out.put(val-temp)\n",
    "            queue.put(temp)\n",
    "        else :\n",
    "            out.put(temp//2)\n",
    "        \n",
    "        \n",
    "    while not out.empty():\n",
    "        print(out.get())"
   ]
  },
  {
   "cell_type": "code",
   "execution_count": 4,
   "metadata": {},
   "outputs": [
    {
     "name": "stdout",
     "output_type": "stream",
     "text": [
      "-2\n",
      "4\n",
      "3\n",
      "2\n",
      "2\n"
     ]
    }
   ],
   "source": [
    "queue=Queue(5)\n",
    "queue.put(2)\n",
    "queue.put(4)\n",
    "queue.put(10)\n",
    "queue.put(6)\n",
    "queue.put(7)\n",
    "\n",
    "check_num(queue)"
   ]
  },
  {
   "cell_type": "code",
   "execution_count": null,
   "metadata": {},
   "outputs": [],
   "source": []
  },
  {
   "cell_type": "code",
   "execution_count": null,
   "metadata": {},
   "outputs": [],
   "source": []
  },
  {
   "cell_type": "code",
   "execution_count": null,
   "metadata": {},
   "outputs": [],
   "source": []
  },
  {
   "cell_type": "code",
   "execution_count": null,
   "metadata": {},
   "outputs": [],
   "source": []
  },
  {
   "cell_type": "code",
   "execution_count": null,
   "metadata": {},
   "outputs": [],
   "source": []
  }
 ],
 "metadata": {
  "kernelspec": {
   "display_name": "Python 3",
   "language": "python",
   "name": "python3"
  },
  "language_info": {
   "codemirror_mode": {
    "name": "ipython",
    "version": 3
   },
   "file_extension": ".py",
   "mimetype": "text/x-python",
   "name": "python",
   "nbconvert_exporter": "python",
   "pygments_lexer": "ipython3",
   "version": "3.7.4"
  }
 },
 "nbformat": 4,
 "nbformat_minor": 2
}
