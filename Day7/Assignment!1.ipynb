{
 "cells": [
  {
   "cell_type": "code",
   "execution_count": 6,
   "metadata": {},
   "outputs": [
    {
     "name": "stdout",
     "output_type": "stream",
     "text": [
      "2021-04-16 22:17:12.505566\n"
     ]
    }
   ],
   "source": [
    "\n",
    "from datetime import datetime\n",
    "now = datetime.now() \n",
    "\n"
   ]
  },
  {
   "cell_type": "code",
   "execution_count": 34,
   "metadata": {},
   "outputs": [],
   "source": [
    "#Prime Number Program\n",
    "#Akash Kumar \n",
    "import math\n",
    "\n",
    "def isPrime(n):\n",
    "    flag=True\n",
    "    if n==1:\n",
    "        flag=False\n",
    "    for i in range(2,int(math.sqrt(n))+1):\n",
    "        if n%i==0:\n",
    "            flag=False\n",
    "            break;\n",
    "    if flag==True:\n",
    "        print(\"Prime\")\n",
    "    else:\n",
    "        print(\"Not Prime\")\n",
    "\n",
    "    \n",
    "        "
   ]
  },
  {
   "cell_type": "code",
   "execution_count": 35,
   "metadata": {},
   "outputs": [
    {
     "name": "stdout",
     "output_type": "stream",
     "text": [
      "Not Prime\n"
     ]
    }
   ],
   "source": [
    "isPrime(4)"
   ]
  },
  {
   "cell_type": "code",
   "execution_count": 36,
   "metadata": {},
   "outputs": [
    {
     "name": "stdout",
     "output_type": "stream",
     "text": [
      "Prime\n"
     ]
    }
   ],
   "source": [
    "isPrime(3)"
   ]
  },
  {
   "cell_type": "code",
   "execution_count": 38,
   "metadata": {},
   "outputs": [
    {
     "name": "stdout",
     "output_type": "stream",
     "text": [
      "Not Prime\n"
     ]
    }
   ],
   "source": [
    "isPrime(1)"
   ]
  },
  {
   "cell_type": "code",
   "execution_count": 66,
   "metadata": {},
   "outputs": [],
   "source": [
    "#Palindrome\n",
    "#Akash Kumar\n",
    "\n",
    "def isPalindrome(n):\n",
    "    rev=0\n",
    "    rem=0\n",
    "    value=n\n",
    "    while(n!=0):\n",
    "        rem=n%10\n",
    "        rev=rev*10+rem        \n",
    "        n//=10\n",
    "    if value==rev:\n",
    "        print(\"Palindrome!\")\n",
    "    else:\n",
    "        print(\"Not Palindrome!\")\n",
    "        "
   ]
  },
  {
   "cell_type": "code",
   "execution_count": 67,
   "metadata": {},
   "outputs": [
    {
     "name": "stdout",
     "output_type": "stream",
     "text": [
      "Not Palindrome!\n"
     ]
    }
   ],
   "source": [
    "isPalindrome(113)"
   ]
  },
  {
   "cell_type": "code",
   "execution_count": 68,
   "metadata": {},
   "outputs": [
    {
     "name": "stdout",
     "output_type": "stream",
     "text": [
      "Palindrome!\n"
     ]
    }
   ],
   "source": [
    "isPalindrome(11311)"
   ]
  },
  {
   "cell_type": "code",
   "execution_count": 83,
   "metadata": {},
   "outputs": [],
   "source": [
    "#0, 1, 1, 2, 3, 5, 8, 13, 21, 34, 55, 89, 144\n",
    "\n",
    "def printFibo(n):\n",
    "    list=[0,1]\n",
    "    for i in range(2,n+1):\n",
    "        list.append(list[i-2]+list[i-1])\n",
    "    print(list)"
   ]
  },
  {
   "cell_type": "code",
   "execution_count": 84,
   "metadata": {},
   "outputs": [
    {
     "name": "stdout",
     "output_type": "stream",
     "text": [
      "[0, 1, 1, 2, 3, 5, 8, 13, 21, 34, 55, 89, 144]\n"
     ]
    }
   ],
   "source": [
    "\n",
    "printFibo(12)"
   ]
  },
  {
   "cell_type": "code",
   "execution_count": null,
   "metadata": {},
   "outputs": [],
   "source": []
  },
  {
   "cell_type": "code",
   "execution_count": null,
   "metadata": {},
   "outputs": [],
   "source": []
  }
 ],
 "metadata": {
  "kernelspec": {
   "display_name": "Python 3",
   "language": "python",
   "name": "python3"
  },
  "language_info": {
   "codemirror_mode": {
    "name": "ipython",
    "version": 3
   },
   "file_extension": ".py",
   "mimetype": "text/x-python",
   "name": "python",
   "nbconvert_exporter": "python",
   "pygments_lexer": "ipython3",
   "version": "3.7.4"
  }
 },
 "nbformat": 4,
 "nbformat_minor": 2
}
