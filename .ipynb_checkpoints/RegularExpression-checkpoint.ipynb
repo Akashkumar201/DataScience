{
 "cells": [
  {
   "cell_type": "code",
   "execution_count": 4,
   "metadata": {},
   "outputs": [
    {
     "name": "stdout",
     "output_type": "stream",
     "text": [
      "how\n",
      "how are you\n"
     ]
    }
   ],
   "source": [
    "import re\n",
    "hand=open('D:/semple.txt')\n",
    "for line in hand:\n",
    "    line=line.rstrip()\n",
    "    if re.search('h',line):\n",
    "        print(line)\n",
    "hand.close()"
   ]
  },
  {
   "cell_type": "code",
   "execution_count": 9,
   "metadata": {},
   "outputs": [
    {
     "name": "stdout",
     "output_type": "stream",
     "text": [
      "how\n",
      "how are you\n",
      "hello how\n",
      "how do you\n"
     ]
    }
   ],
   "source": [
    "import re\n",
    "hand=open('D:/semple.txt')\n",
    "for line in hand:\n",
    "    line=line.rstrip()\n",
    "    if re.search('[^h]',line):\n",
    "        print(line)\n",
    "hand.close()"
   ]
  },
  {
   "cell_type": "code",
   "execution_count": null,
   "metadata": {},
   "outputs": [],
   "source": [
    "Prime number\n",
    "Palindrome\n",
    "logic ( prime number 20( 3,5,7) , or even number(2,4,6,8) ) print together .\n",
    "fabbinoci series"
   ]
  },
  {
   "cell_type": "code",
   "execution_count": 6,
   "metadata": {},
   "outputs": [],
   "source": [
    "import re\n",
    "hand=open('D:/semple.txt')\n",
    "for line in hand:\n",
    "    line=line.rstrip()\n",
    "    if re.search('^h,+o',line):\n",
    "        print(line)\n",
    "hand.close()"
   ]
  },
  {
   "cell_type": "code",
   "execution_count": null,
   "metadata": {},
   "outputs": [],
   "source": []
  }
 ],
 "metadata": {
  "kernelspec": {
   "display_name": "Python 3",
   "language": "python",
   "name": "python3"
  },
  "language_info": {
   "codemirror_mode": {
    "name": "ipython",
    "version": 3
   },
   "file_extension": ".py",
   "mimetype": "text/x-python",
   "name": "python",
   "nbconvert_exporter": "python",
   "pygments_lexer": "ipython3",
   "version": "3.9.1"
  }
 },
 "nbformat": 4,
 "nbformat_minor": 2
}
