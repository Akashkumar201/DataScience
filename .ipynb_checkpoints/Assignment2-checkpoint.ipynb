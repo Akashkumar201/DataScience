{
 "cells": [
  {
   "cell_type": "code",
   "execution_count": 3,
   "metadata": {},
   "outputs": [
    {
     "name": "stdout",
     "output_type": "stream",
     "text": [
      "file Open without any error\n",
      "File Copied Successfully\n",
      "File Copied Successfully\n",
      "File Copied Successfully\n",
      "File Copied Successfully\n",
      "File Copied Successfully\n"
     ]
    }
   ],
   "source": [
    "#Akash Kumar\n",
    "try:\n",
    "    file=open('myfile.txt','r')\n",
    "    file2=open('myfile2.txt','r')\n",
    "    print(\"file Open without any error\")\n",
    "except:\n",
    "    print(\"Can't Open File\")\n",
    "for l in file:\n",
    "    \n",
    "    print(\"File Copied Successfully\")\n",
    "file.close()\n",
    "file2.close()"
   ]
  },
  {
   "cell_type": "code",
   "execution_count": null,
   "metadata": {},
   "outputs": [],
   "source": []
  },
  {
   "cell_type": "code",
   "execution_count": 1,
   "metadata": {},
   "outputs": [
    {
     "name": "stdout",
     "output_type": "stream",
     "text": [
      "[{'empid': 1, 'empname': 'aryan', 'address': 'delhi'}, {'departmentname': 'computer', 'depid': 1, 'team': 5}, {'empid': 2, 'empname': 'Akash', 'address': 'oidish'}, {'departmentname': 'electrical', 'depid': 2, 'team': 10}]\n"
     ]
    }
   ],
   "source": [
    "#Assignment 2\n",
    "#Akash kumar \n",
    "hr=[{\"empid\":1,\"empname\":\"aryan\",\"address\":\"delhi\"},{\"empid\":2,\"empname\":\"Akash\",\"address\":\"oidish\"}]\n",
    "dep=[{\"departmentname\":\"computer\",\"depid\":5,\"team\":5},{\"departmentname\":\"electrical\",\"depid\":2,\"team\":10},{\"departmentname\":\"computer\",\"depid\":1,\"team\":5}]\n",
    "data=[]\n",
    "for i in range(0,len(hr)):\n",
    "    for j in range(0,len(dep)):\n",
    "\n",
    "        if hr[i]['empid'] == dep[j]['depid']:\n",
    "            data.append(hr[i])\n",
    "            data.append(dep[j])\n",
    "\n",
    "            \n",
    "            \n",
    "        else:\n",
    "            pass\n",
    "print(data)"
   ]
  },
  {
   "cell_type": "code",
   "execution_count": null,
   "metadata": {},
   "outputs": [],
   "source": []
  }
 ],
 "metadata": {
  "kernelspec": {
   "display_name": "Python 3",
   "language": "python",
   "name": "python3"
  },
  "language_info": {
   "codemirror_mode": {
    "name": "ipython",
    "version": 3
   },
   "file_extension": ".py",
   "mimetype": "text/x-python",
   "name": "python",
   "nbconvert_exporter": "python",
   "pygments_lexer": "ipython3",
   "version": "3.9.1"
  }
 },
 "nbformat": 4,
 "nbformat_minor": 2
}
