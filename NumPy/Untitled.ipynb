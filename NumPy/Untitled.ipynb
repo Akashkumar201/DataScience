{
 "cells": [
  {
   "cell_type": "code",
   "execution_count": 1,
   "id": "8a77c652",
   "metadata": {},
   "outputs": [
    {
     "name": "stdout",
     "output_type": "stream",
     "text": [
      "printing the sin values of different angles\n",
      "[0.        0.5       0.8660254 1.       ]\n",
      "printing the inverse of the sin\n",
      "[0.         0.52359878 1.04719755 1.57079633]\n",
      "printing the values in degrees\n",
      "[ 0. 30. 60. 90.]\n",
      "\n",
      "printing the cos values of different angles\n",
      "[1.00000000e+00 8.66025404e-01 5.00000000e-01 6.12323400e-17]\n",
      "printing the inverse of the cos\n",
      "[0.         0.52359878 1.04719755 1.57079633]\n",
      "\n",
      "printing the values in degrees\n",
      "[ 0. 30. 60. 90.]\n",
      "\n",
      "printing the tan values of different angles\n",
      "[0.00000000e+00 5.77350269e-01 1.73205081e+00 1.63312394e+16]\n",
      "printing the inverse of the tan\n",
      "[0.         0.52359878 1.04719755 1.57079633]\n",
      "\n",
      "printing the values in degrees\n",
      "[ 0. 30. 60. 90.]\n"
     ]
    }
   ],
   "source": [
    "import numpy as np  \n",
    "arr = np.array([0, 30, 60, 90])  \n",
    "print(\"printing the sin values of different angles\")  \n",
    "  \n",
    "sinval = np.sin(arr*np.pi/180)  \n",
    "  \n",
    "print(sinval)  \n",
    "print(\"printing the inverse of the sin\")  \n",
    "cosec = np.arcsin(sinval)  \n",
    "  \n",
    "print(cosec)  \n",
    "  \n",
    "print(\"printing the values in degrees\")  \n",
    "print(np.degrees(cosec))  \n",
    "  \n",
    "print(\"\\nprinting the cos values of different angles\")  \n",
    "cosval = np.cos(arr*np.pi/180)  \n",
    "  \n",
    "print(cosval)  \n",
    "print(\"printing the inverse of the cos\")  \n",
    "sec = np.arccos(cosval)  \n",
    "print(sec)  \n",
    "  \n",
    "print(\"\\nprinting the values in degrees\")  \n",
    "print(np.degrees(sec))  \n",
    "  \n",
    "print(\"\\nprinting the tan values of different angles\")  \n",
    "tanval = np.tan(arr*np.pi/180)  \n",
    "  \n",
    "print(tanval)  \n",
    "print(\"printing the inverse of the tan\")  \n",
    "cot = np.arctan(tanval)  \n",
    "print(cot)  \n",
    "  \n",
    "print(\"\\nprinting the values in degrees\")  \n",
    "print(np.degrees(cot))  "
   ]
  },
  {
   "cell_type": "code",
   "execution_count": null,
   "id": "fb10f23c",
   "metadata": {},
   "outputs": [],
   "source": []
  }
 ],
 "metadata": {
  "kernelspec": {
   "display_name": "Python 3",
   "language": "python",
   "name": "python3"
  },
  "language_info": {
   "codemirror_mode": {
    "name": "ipython",
    "version": 3
   },
   "file_extension": ".py",
   "mimetype": "text/x-python",
   "name": "python",
   "nbconvert_exporter": "python",
   "pygments_lexer": "ipython3",
   "version": "3.9.1"
  }
 },
 "nbformat": 4,
 "nbformat_minor": 5
}
