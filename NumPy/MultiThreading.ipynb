{
 "cells": [
  {
   "cell_type": "code",
   "execution_count": null,
   "id": "bfbe55e7",
   "metadata": {},
   "outputs": [],
   "source": []
  },
  {
   "cell_type": "code",
   "execution_count": 8,
   "id": "813f21fd",
   "metadata": {},
   "outputs": [],
   "source": [
    "from threading import *"
   ]
  },
  {
   "cell_type": "code",
   "execution_count": 11,
   "id": "e68c3cbe",
   "metadata": {},
   "outputs": [
    {
     "name": "stdout",
     "output_type": "stream",
     "text": [
      "child thread executing\n",
      "child thread executing\n",
      "child thread executing\n",
      "child thread executing\n",
      "child thread executing\n",
      "child thread executing\n",
      "exit\n"
     ]
    }
   ],
   "source": [
    "def exa():\n",
    "    for i in range(6):\n",
    "        print(\"child thread executing\")\n",
    "t1=Thread(target=exa)\n",
    "t1.start()\n",
    "t1.join()\n",
    "print(\"exit\")"
   ]
  },
  {
   "cell_type": "code",
   "execution_count": 16,
   "id": "3d09dd68",
   "metadata": {},
   "outputs": [
    {
     "name": "stdout",
     "output_type": "stream",
     "text": [
      "child thread executing Thread-11\n",
      "child thread executing Thread-11\n",
      "child thread executing Thread-11\n",
      "child thread executing Thread-11\n",
      "child thread executing Thread-11\n",
      "child thread executing Thread-11\n",
      "exit MainThread\n"
     ]
    }
   ],
   "source": [
    "def exa():\n",
    "    for i in range(6):\n",
    "        print(\"child thread executing\",current_thread().getName())\n",
    "t1=Thread(target=exa)\n",
    "t1.start()\n",
    "t1.join()\n",
    "print(\"exit\",current_thread().getName())"
   ]
  },
  {
   "cell_type": "code",
   "execution_count": 17,
   "id": "07eb748d",
   "metadata": {},
   "outputs": [
    {
     "name": "stdout",
     "output_type": "stream",
     "text": [
      "child thread executing 0\n",
      "child thread executing 1\n",
      "child thread executing 2\n",
      "child thread executing 3\n",
      "child thread executing 4\n",
      "child thread executing 5\n",
      "exit MainThread\n"
     ]
    }
   ],
   "source": [
    "def exa():\n",
    "    for i in range(6):\n",
    "        print(\"child thread executing\",i)\n",
    "t1=Thread(target=exa)\n",
    "t1.start()\n",
    "t1.join()\n",
    "print(\"exit\",current_thread().getName())"
   ]
  },
  {
   "cell_type": "code",
   "execution_count": null,
   "id": "28104d06",
   "metadata": {},
   "outputs": [],
   "source": []
  },
  {
   "cell_type": "code",
   "execution_count": null,
   "id": "f256e0a7",
   "metadata": {},
   "outputs": [],
   "source": []
  }
 ],
 "metadata": {
  "kernelspec": {
   "display_name": "Python 3",
   "language": "python",
   "name": "python3"
  },
  "language_info": {
   "codemirror_mode": {
    "name": "ipython",
    "version": 3
   },
   "file_extension": ".py",
   "mimetype": "text/x-python",
   "name": "python",
   "nbconvert_exporter": "python",
   "pygments_lexer": "ipython3",
   "version": "3.9.1"
  }
 },
 "nbformat": 4,
 "nbformat_minor": 5
}
