{
 "cells": [
  {
   "cell_type": "code",
   "execution_count": 2,
   "metadata": {},
   "outputs": [
    {
     "name": "stdout",
     "output_type": "stream",
     "text": [
      "Requirement already satisfied: numpy in c:\\users\\user\\appdata\\local\\programs\\python\\python39\\lib\\site-packages (1.20.1)\n",
      "Note: you may need to restart the kernel to use updated packages.\n"
     ]
    }
   ],
   "source": [
    "pip install numpy\n"
   ]
  },
  {
   "cell_type": "code",
   "execution_count": 11,
   "metadata": {},
   "outputs": [
    {
     "ename": "TypeError",
     "evalue": "Field elements must be 2- or 3-tuples, got '1'",
     "output_type": "error",
     "traceback": [
      "\u001b[1;31m---------------------------------------------------------------------------\u001b[0m",
      "\u001b[1;31mTypeError\u001b[0m                                 Traceback (most recent call last)",
      "\u001b[1;32m<ipython-input-11-c04856299b31>\u001b[0m in \u001b[0;36m<module>\u001b[1;34m\u001b[0m\n\u001b[0;32m      1\u001b[0m \u001b[1;32mimport\u001b[0m \u001b[0mnumpy\u001b[0m \u001b[1;32mas\u001b[0m \u001b[0mnp\u001b[0m\u001b[1;33m\u001b[0m\u001b[1;33m\u001b[0m\u001b[0m\n\u001b[1;32m----> 2\u001b[1;33m \u001b[0ma\u001b[0m\u001b[1;33m=\u001b[0m\u001b[0mnp\u001b[0m\u001b[1;33m.\u001b[0m\u001b[0marray\u001b[0m\u001b[1;33m(\u001b[0m\u001b[1;33m[\u001b[0m\u001b[1;36m1\u001b[0m\u001b[1;33m,\u001b[0m\u001b[1;36m2\u001b[0m\u001b[1;33m,\u001b[0m\u001b[1;36m3\u001b[0m\u001b[1;33m,\u001b[0m\u001b[1;36m4\u001b[0m\u001b[1;33m]\u001b[0m\u001b[1;33m,\u001b[0m\u001b[1;33m[\u001b[0m\u001b[1;36m1\u001b[0m\u001b[1;33m,\u001b[0m\u001b[1;36m2\u001b[0m\u001b[1;33m,\u001b[0m\u001b[1;36m3\u001b[0m\u001b[1;33m,\u001b[0m\u001b[1;36m4\u001b[0m\u001b[1;33m]\u001b[0m\u001b[1;33m)\u001b[0m\u001b[1;33m;\u001b[0m\u001b[1;33m\u001b[0m\u001b[1;33m\u001b[0m\u001b[0m\n\u001b[0m",
      "\u001b[1;31mTypeError\u001b[0m: Field elements must be 2- or 3-tuples, got '1'"
     ]
    }
   ],
   "source": [
    "import numpy as np\n",
    "a=np.array([1,2,3,4],[1,2,3,4]);"
   ]
  },
  {
   "cell_type": "code",
   "execution_count": 7,
   "metadata": {},
   "outputs": [
    {
     "data": {
      "text/plain": [
       "array([1, 2, 3, 4])"
      ]
     },
     "execution_count": 7,
     "metadata": {},
     "output_type": "execute_result"
    }
   ],
   "source": [
    "a"
   ]
  },
  {
   "cell_type": "code",
   "execution_count": 5,
   "metadata": {},
   "outputs": [
    {
     "data": {
      "text/plain": [
       "1"
      ]
     },
     "execution_count": 5,
     "metadata": {},
     "output_type": "execute_result"
    }
   ],
   "source": [
    "a.ndim\n"
   ]
  },
  {
   "cell_type": "code",
   "execution_count": 5,
   "metadata": {},
   "outputs": [
    {
     "data": {
      "text/plain": [
       "(4,)"
      ]
     },
     "execution_count": 5,
     "metadata": {},
     "output_type": "execute_result"
    }
   ],
   "source": [
    "a.shape"
   ]
  },
  {
   "cell_type": "code",
   "execution_count": 6,
   "metadata": {},
   "outputs": [
    {
     "data": {
      "text/plain": [
       "4"
      ]
     },
     "execution_count": 6,
     "metadata": {},
     "output_type": "execute_result"
    }
   ],
   "source": [
    "a.itemsize"
   ]
  },
  {
   "cell_type": "code",
   "execution_count": 7,
   "metadata": {},
   "outputs": [
    {
     "data": {
      "text/plain": [
       "dtype('int32')"
      ]
     },
     "execution_count": 7,
     "metadata": {},
     "output_type": "execute_result"
    }
   ],
   "source": [
    "a.dtype"
   ]
  },
  {
   "cell_type": "code",
   "execution_count": 14,
   "metadata": {},
   "outputs": [],
   "source": [
    "a=np.array([[1,2,3],[3,4,5],[6,7,8]],dtype=np.complex)"
   ]
  },
  {
   "cell_type": "code",
   "execution_count": 15,
   "metadata": {},
   "outputs": [
    {
     "data": {
      "text/plain": [
       "array([[1.+0.j, 2.+0.j, 3.+0.j],\n",
       "       [3.+0.j, 4.+0.j, 5.+0.j],\n",
       "       [6.+0.j, 7.+0.j, 8.+0.j]])"
      ]
     },
     "execution_count": 15,
     "metadata": {},
     "output_type": "execute_result"
    }
   ],
   "source": [
    "a"
   ]
  },
  {
   "cell_type": "code",
   "execution_count": 11,
   "metadata": {},
   "outputs": [
    {
     "data": {
      "text/plain": [
       "8"
      ]
     },
     "execution_count": 11,
     "metadata": {},
     "output_type": "execute_result"
    }
   ],
   "source": [
    "a.itemsize\n"
   ]
  },
  {
   "cell_type": "code",
   "execution_count": 12,
   "metadata": {},
   "outputs": [
    {
     "data": {
      "text/plain": [
       "9"
      ]
     },
     "execution_count": 12,
     "metadata": {},
     "output_type": "execute_result"
    }
   ],
   "source": [
    "a.size"
   ]
  },
  {
   "cell_type": "code",
   "execution_count": 13,
   "metadata": {},
   "outputs": [
    {
     "data": {
      "text/plain": [
       "(3, 3)"
      ]
     },
     "execution_count": 13,
     "metadata": {},
     "output_type": "execute_result"
    }
   ],
   "source": [
    "a.shape"
   ]
  },
  {
   "cell_type": "code",
   "execution_count": 20,
   "metadata": {},
   "outputs": [
    {
     "data": {
      "text/plain": [
       "array([[1., 1., 1., 1.],\n",
       "       [1., 1., 1., 1.],\n",
       "       [1., 1., 1., 1.]])"
      ]
     },
     "execution_count": 20,
     "metadata": {},
     "output_type": "execute_result"
    }
   ],
   "source": [
    "import numpy as np\n",
    "np.ones((3,4))"
   ]
  },
  {
   "cell_type": "code",
   "execution_count": 21,
   "metadata": {},
   "outputs": [],
   "source": [
    "i=range(3)"
   ]
  },
  {
   "cell_type": "code",
   "execution_count": 22,
   "metadata": {},
   "outputs": [
    {
     "data": {
      "text/plain": [
       "range(0, 3)"
      ]
     },
     "execution_count": 22,
     "metadata": {},
     "output_type": "execute_result"
    }
   ],
   "source": [
    "i"
   ]
  },
  {
   "cell_type": "code",
   "execution_count": 28,
   "metadata": {},
   "outputs": [
    {
     "data": {
      "text/plain": [
       "2"
      ]
     },
     "execution_count": 28,
     "metadata": {},
     "output_type": "execute_result"
    }
   ],
   "source": [
    "i[2]"
   ]
  },
  {
   "cell_type": "code",
   "execution_count": null,
   "metadata": {},
   "outputs": [],
   "source": []
  },
  {
   "cell_type": "code",
   "execution_count": 29,
   "metadata": {},
   "outputs": [
    {
     "data": {
      "text/plain": [
       "array([1, 2, 3, 4])"
      ]
     },
     "execution_count": 29,
     "metadata": {},
     "output_type": "execute_result"
    }
   ],
   "source": [
    "np.arange(1,5)"
   ]
  },
  {
   "cell_type": "code",
   "execution_count": 33,
   "metadata": {},
   "outputs": [],
   "source": [
    "a=np.arange(1,55,5)"
   ]
  },
  {
   "cell_type": "code",
   "execution_count": 34,
   "metadata": {},
   "outputs": [
    {
     "data": {
      "text/plain": [
       "array([ 1,  6, 11, 16, 21, 26, 31, 36, 41, 46, 51])"
      ]
     },
     "execution_count": 34,
     "metadata": {},
     "output_type": "execute_result"
    }
   ],
   "source": [
    "a"
   ]
  },
  {
   "cell_type": "code",
   "execution_count": 35,
   "metadata": {},
   "outputs": [
    {
     "data": {
      "text/plain": [
       "array([1.        , 2.44948974, 3.31662479, 4.        , 4.58257569,\n",
       "       5.09901951, 5.56776436, 6.        , 6.40312424, 6.78232998,\n",
       "       7.14142843])"
      ]
     },
     "execution_count": 35,
     "metadata": {},
     "output_type": "execute_result"
    }
   ],
   "source": [
    "np.sqrt(a)"
   ]
  },
  {
   "cell_type": "code",
   "execution_count": 36,
   "metadata": {},
   "outputs": [
    {
     "name": "stdout",
     "output_type": "stream",
     "text": [
      "Requirement already satisfied: pandas in c:\\users\\user\\anaconda3\\lib\\site-packages (0.25.1)\n",
      "Requirement already satisfied: pytz>=2017.2 in c:\\users\\user\\anaconda3\\lib\\site-packages (from pandas) (2019.3)\n",
      "Requirement already satisfied: python-dateutil>=2.6.1 in c:\\users\\user\\anaconda3\\lib\\site-packages (from pandas) (2.8.0)\n",
      "Requirement already satisfied: numpy>=1.13.3 in c:\\users\\user\\anaconda3\\lib\\site-packages (from pandas) (1.16.5)\n",
      "Requirement already satisfied: six>=1.5 in c:\\users\\user\\anaconda3\\lib\\site-packages (from python-dateutil>=2.6.1->pandas) (1.12.0)\n",
      "Note: you may need to restart the kernel to use updated packages.\n"
     ]
    }
   ],
   "source": [
    "pip install pandas\n"
   ]
  },
  {
   "cell_type": "code",
   "execution_count": 2,
   "metadata": {},
   "outputs": [],
   "source": [
    "import numpy as np\n",
    "ar=np.array([[2,3,1],[3,5,1],[5,7,3]])"
   ]
  },
  {
   "cell_type": "code",
   "execution_count": 3,
   "metadata": {},
   "outputs": [
    {
     "data": {
      "text/plain": [
       "array([[2, 3, 1],\n",
       "       [3, 5, 1],\n",
       "       [5, 7, 3]])"
      ]
     },
     "execution_count": 3,
     "metadata": {},
     "output_type": "execute_result"
    }
   ],
   "source": [
    "ar"
   ]
  },
  {
   "cell_type": "code",
   "execution_count": 6,
   "metadata": {},
   "outputs": [],
   "source": [
    "[m,n]=ar.shape"
   ]
  },
  {
   "cell_type": "code",
   "execution_count": 7,
   "metadata": {},
   "outputs": [
    {
     "data": {
      "text/plain": [
       "3"
      ]
     },
     "execution_count": 7,
     "metadata": {},
     "output_type": "execute_result"
    }
   ],
   "source": [
    "n"
   ]
  },
  {
   "cell_type": "code",
   "execution_count": 8,
   "metadata": {},
   "outputs": [
    {
     "data": {
      "text/plain": [
       "3"
      ]
     },
     "execution_count": 8,
     "metadata": {},
     "output_type": "execute_result"
    }
   ],
   "source": [
    "m"
   ]
  },
  {
   "cell_type": "code",
   "execution_count": 9,
   "metadata": {},
   "outputs": [],
   "source": [
    "ar2=np.arange(1,11,.5)"
   ]
  },
  {
   "cell_type": "code",
   "execution_count": 10,
   "metadata": {},
   "outputs": [
    {
     "data": {
      "text/plain": [
       "array([ 1. ,  1.5,  2. ,  2.5,  3. ,  3.5,  4. ,  4.5,  5. ,  5.5,  6. ,\n",
       "        6.5,  7. ,  7.5,  8. ,  8.5,  9. ,  9.5, 10. , 10.5])"
      ]
     },
     "execution_count": 10,
     "metadata": {},
     "output_type": "execute_result"
    }
   ],
   "source": [
    "ar2"
   ]
  },
  {
   "cell_type": "code",
   "execution_count": 11,
   "metadata": {},
   "outputs": [],
   "source": [
    "ar2=np.arange(1,55,5)"
   ]
  },
  {
   "cell_type": "code",
   "execution_count": 12,
   "metadata": {},
   "outputs": [
    {
     "data": {
      "text/plain": [
       "array([ 1,  6, 11, 16, 21, 26, 31, 36, 41, 46, 51])"
      ]
     },
     "execution_count": 12,
     "metadata": {},
     "output_type": "execute_result"
    }
   ],
   "source": [
    "ar2"
   ]
  },
  {
   "cell_type": "code",
   "execution_count": 22,
   "metadata": {},
   "outputs": [],
   "source": [
    "ar3=np.arange(1,10,9/500)"
   ]
  },
  {
   "cell_type": "code",
   "execution_count": 23,
   "metadata": {},
   "outputs": [
    {
     "data": {
      "text/plain": [
       "array([ 1.   ,  1.018,  1.036,  1.054,  1.072,  1.09 ,  1.108,  1.126,\n",
       "        1.144,  1.162,  1.18 ,  1.198,  1.216,  1.234,  1.252,  1.27 ,\n",
       "        1.288,  1.306,  1.324,  1.342,  1.36 ,  1.378,  1.396,  1.414,\n",
       "        1.432,  1.45 ,  1.468,  1.486,  1.504,  1.522,  1.54 ,  1.558,\n",
       "        1.576,  1.594,  1.612,  1.63 ,  1.648,  1.666,  1.684,  1.702,\n",
       "        1.72 ,  1.738,  1.756,  1.774,  1.792,  1.81 ,  1.828,  1.846,\n",
       "        1.864,  1.882,  1.9  ,  1.918,  1.936,  1.954,  1.972,  1.99 ,\n",
       "        2.008,  2.026,  2.044,  2.062,  2.08 ,  2.098,  2.116,  2.134,\n",
       "        2.152,  2.17 ,  2.188,  2.206,  2.224,  2.242,  2.26 ,  2.278,\n",
       "        2.296,  2.314,  2.332,  2.35 ,  2.368,  2.386,  2.404,  2.422,\n",
       "        2.44 ,  2.458,  2.476,  2.494,  2.512,  2.53 ,  2.548,  2.566,\n",
       "        2.584,  2.602,  2.62 ,  2.638,  2.656,  2.674,  2.692,  2.71 ,\n",
       "        2.728,  2.746,  2.764,  2.782,  2.8  ,  2.818,  2.836,  2.854,\n",
       "        2.872,  2.89 ,  2.908,  2.926,  2.944,  2.962,  2.98 ,  2.998,\n",
       "        3.016,  3.034,  3.052,  3.07 ,  3.088,  3.106,  3.124,  3.142,\n",
       "        3.16 ,  3.178,  3.196,  3.214,  3.232,  3.25 ,  3.268,  3.286,\n",
       "        3.304,  3.322,  3.34 ,  3.358,  3.376,  3.394,  3.412,  3.43 ,\n",
       "        3.448,  3.466,  3.484,  3.502,  3.52 ,  3.538,  3.556,  3.574,\n",
       "        3.592,  3.61 ,  3.628,  3.646,  3.664,  3.682,  3.7  ,  3.718,\n",
       "        3.736,  3.754,  3.772,  3.79 ,  3.808,  3.826,  3.844,  3.862,\n",
       "        3.88 ,  3.898,  3.916,  3.934,  3.952,  3.97 ,  3.988,  4.006,\n",
       "        4.024,  4.042,  4.06 ,  4.078,  4.096,  4.114,  4.132,  4.15 ,\n",
       "        4.168,  4.186,  4.204,  4.222,  4.24 ,  4.258,  4.276,  4.294,\n",
       "        4.312,  4.33 ,  4.348,  4.366,  4.384,  4.402,  4.42 ,  4.438,\n",
       "        4.456,  4.474,  4.492,  4.51 ,  4.528,  4.546,  4.564,  4.582,\n",
       "        4.6  ,  4.618,  4.636,  4.654,  4.672,  4.69 ,  4.708,  4.726,\n",
       "        4.744,  4.762,  4.78 ,  4.798,  4.816,  4.834,  4.852,  4.87 ,\n",
       "        4.888,  4.906,  4.924,  4.942,  4.96 ,  4.978,  4.996,  5.014,\n",
       "        5.032,  5.05 ,  5.068,  5.086,  5.104,  5.122,  5.14 ,  5.158,\n",
       "        5.176,  5.194,  5.212,  5.23 ,  5.248,  5.266,  5.284,  5.302,\n",
       "        5.32 ,  5.338,  5.356,  5.374,  5.392,  5.41 ,  5.428,  5.446,\n",
       "        5.464,  5.482,  5.5  ,  5.518,  5.536,  5.554,  5.572,  5.59 ,\n",
       "        5.608,  5.626,  5.644,  5.662,  5.68 ,  5.698,  5.716,  5.734,\n",
       "        5.752,  5.77 ,  5.788,  5.806,  5.824,  5.842,  5.86 ,  5.878,\n",
       "        5.896,  5.914,  5.932,  5.95 ,  5.968,  5.986,  6.004,  6.022,\n",
       "        6.04 ,  6.058,  6.076,  6.094,  6.112,  6.13 ,  6.148,  6.166,\n",
       "        6.184,  6.202,  6.22 ,  6.238,  6.256,  6.274,  6.292,  6.31 ,\n",
       "        6.328,  6.346,  6.364,  6.382,  6.4  ,  6.418,  6.436,  6.454,\n",
       "        6.472,  6.49 ,  6.508,  6.526,  6.544,  6.562,  6.58 ,  6.598,\n",
       "        6.616,  6.634,  6.652,  6.67 ,  6.688,  6.706,  6.724,  6.742,\n",
       "        6.76 ,  6.778,  6.796,  6.814,  6.832,  6.85 ,  6.868,  6.886,\n",
       "        6.904,  6.922,  6.94 ,  6.958,  6.976,  6.994,  7.012,  7.03 ,\n",
       "        7.048,  7.066,  7.084,  7.102,  7.12 ,  7.138,  7.156,  7.174,\n",
       "        7.192,  7.21 ,  7.228,  7.246,  7.264,  7.282,  7.3  ,  7.318,\n",
       "        7.336,  7.354,  7.372,  7.39 ,  7.408,  7.426,  7.444,  7.462,\n",
       "        7.48 ,  7.498,  7.516,  7.534,  7.552,  7.57 ,  7.588,  7.606,\n",
       "        7.624,  7.642,  7.66 ,  7.678,  7.696,  7.714,  7.732,  7.75 ,\n",
       "        7.768,  7.786,  7.804,  7.822,  7.84 ,  7.858,  7.876,  7.894,\n",
       "        7.912,  7.93 ,  7.948,  7.966,  7.984,  8.002,  8.02 ,  8.038,\n",
       "        8.056,  8.074,  8.092,  8.11 ,  8.128,  8.146,  8.164,  8.182,\n",
       "        8.2  ,  8.218,  8.236,  8.254,  8.272,  8.29 ,  8.308,  8.326,\n",
       "        8.344,  8.362,  8.38 ,  8.398,  8.416,  8.434,  8.452,  8.47 ,\n",
       "        8.488,  8.506,  8.524,  8.542,  8.56 ,  8.578,  8.596,  8.614,\n",
       "        8.632,  8.65 ,  8.668,  8.686,  8.704,  8.722,  8.74 ,  8.758,\n",
       "        8.776,  8.794,  8.812,  8.83 ,  8.848,  8.866,  8.884,  8.902,\n",
       "        8.92 ,  8.938,  8.956,  8.974,  8.992,  9.01 ,  9.028,  9.046,\n",
       "        9.064,  9.082,  9.1  ,  9.118,  9.136,  9.154,  9.172,  9.19 ,\n",
       "        9.208,  9.226,  9.244,  9.262,  9.28 ,  9.298,  9.316,  9.334,\n",
       "        9.352,  9.37 ,  9.388,  9.406,  9.424,  9.442,  9.46 ,  9.478,\n",
       "        9.496,  9.514,  9.532,  9.55 ,  9.568,  9.586,  9.604,  9.622,\n",
       "        9.64 ,  9.658,  9.676,  9.694,  9.712,  9.73 ,  9.748,  9.766,\n",
       "        9.784,  9.802,  9.82 ,  9.838,  9.856,  9.874,  9.892,  9.91 ,\n",
       "        9.928,  9.946,  9.964,  9.982, 10.   ])"
      ]
     },
     "execution_count": 23,
     "metadata": {},
     "output_type": "execute_result"
    }
   ],
   "source": [
    "ar3"
   ]
  },
  {
   "cell_type": "code",
   "execution_count": 24,
   "metadata": {},
   "outputs": [
    {
     "data": {
      "text/plain": [
       "501"
      ]
     },
     "execution_count": 24,
     "metadata": {},
     "output_type": "execute_result"
    }
   ],
   "source": [
    "len(ar3)"
   ]
  },
  {
   "cell_type": "code",
   "execution_count": 25,
   "metadata": {},
   "outputs": [],
   "source": [
    "ar4=np.linspace(1,12,500)"
   ]
  },
  {
   "cell_type": "code",
   "execution_count": 27,
   "metadata": {},
   "outputs": [
    {
     "name": "stdout",
     "output_type": "stream",
     "text": [
      "[ 1.          1.02204409  1.04408818  1.06613226  1.08817635  1.11022044\n",
      "  1.13226453  1.15430862  1.17635271  1.19839679  1.22044088  1.24248497\n",
      "  1.26452906  1.28657315  1.30861723  1.33066132  1.35270541  1.3747495\n",
      "  1.39679359  1.41883768  1.44088176  1.46292585  1.48496994  1.50701403\n",
      "  1.52905812  1.5511022   1.57314629  1.59519038  1.61723447  1.63927856\n",
      "  1.66132265  1.68336673  1.70541082  1.72745491  1.749499    1.77154309\n",
      "  1.79358717  1.81563126  1.83767535  1.85971944  1.88176353  1.90380762\n",
      "  1.9258517   1.94789579  1.96993988  1.99198397  2.01402806  2.03607214\n",
      "  2.05811623  2.08016032  2.10220441  2.1242485   2.14629259  2.16833667\n",
      "  2.19038076  2.21242485  2.23446894  2.25651303  2.27855711  2.3006012\n",
      "  2.32264529  2.34468938  2.36673347  2.38877756  2.41082164  2.43286573\n",
      "  2.45490982  2.47695391  2.498998    2.52104208  2.54308617  2.56513026\n",
      "  2.58717435  2.60921844  2.63126253  2.65330661  2.6753507   2.69739479\n",
      "  2.71943888  2.74148297  2.76352705  2.78557114  2.80761523  2.82965932\n",
      "  2.85170341  2.87374749  2.89579158  2.91783567  2.93987976  2.96192385\n",
      "  2.98396794  3.00601202  3.02805611  3.0501002   3.07214429  3.09418838\n",
      "  3.11623246  3.13827655  3.16032064  3.18236473  3.20440882  3.22645291\n",
      "  3.24849699  3.27054108  3.29258517  3.31462926  3.33667335  3.35871743\n",
      "  3.38076152  3.40280561  3.4248497   3.44689379  3.46893788  3.49098196\n",
      "  3.51302605  3.53507014  3.55711423  3.57915832  3.6012024   3.62324649\n",
      "  3.64529058  3.66733467  3.68937876  3.71142285  3.73346693  3.75551102\n",
      "  3.77755511  3.7995992   3.82164329  3.84368737  3.86573146  3.88777555\n",
      "  3.90981964  3.93186373  3.95390782  3.9759519   3.99799599  4.02004008\n",
      "  4.04208417  4.06412826  4.08617234  4.10821643  4.13026052  4.15230461\n",
      "  4.1743487   4.19639279  4.21843687  4.24048096  4.26252505  4.28456914\n",
      "  4.30661323  4.32865731  4.3507014   4.37274549  4.39478958  4.41683367\n",
      "  4.43887776  4.46092184  4.48296593  4.50501002  4.52705411  4.5490982\n",
      "  4.57114228  4.59318637  4.61523046  4.63727455  4.65931864  4.68136273\n",
      "  4.70340681  4.7254509   4.74749499  4.76953908  4.79158317  4.81362725\n",
      "  4.83567134  4.85771543  4.87975952  4.90180361  4.9238477   4.94589178\n",
      "  4.96793587  4.98997996  5.01202405  5.03406814  5.05611222  5.07815631\n",
      "  5.1002004   5.12224449  5.14428858  5.16633267  5.18837675  5.21042084\n",
      "  5.23246493  5.25450902  5.27655311  5.29859719  5.32064128  5.34268537\n",
      "  5.36472946  5.38677355  5.40881764  5.43086172  5.45290581  5.4749499\n",
      "  5.49699399  5.51903808  5.54108216  5.56312625  5.58517034  5.60721443\n",
      "  5.62925852  5.65130261  5.67334669  5.69539078  5.71743487  5.73947896\n",
      "  5.76152305  5.78356713  5.80561122  5.82765531  5.8496994   5.87174349\n",
      "  5.89378758  5.91583166  5.93787575  5.95991984  5.98196393  6.00400802\n",
      "  6.0260521   6.04809619  6.07014028  6.09218437  6.11422846  6.13627255\n",
      "  6.15831663  6.18036072  6.20240481  6.2244489   6.24649299  6.26853707\n",
      "  6.29058116  6.31262525  6.33466934  6.35671343  6.37875752  6.4008016\n",
      "  6.42284569  6.44488978  6.46693387  6.48897796  6.51102204  6.53306613\n",
      "  6.55511022  6.57715431  6.5991984   6.62124248  6.64328657  6.66533066\n",
      "  6.68737475  6.70941884  6.73146293  6.75350701  6.7755511   6.79759519\n",
      "  6.81963928  6.84168337  6.86372745  6.88577154  6.90781563  6.92985972\n",
      "  6.95190381  6.9739479   6.99599198  7.01803607  7.04008016  7.06212425\n",
      "  7.08416834  7.10621242  7.12825651  7.1503006   7.17234469  7.19438878\n",
      "  7.21643287  7.23847695  7.26052104  7.28256513  7.30460922  7.32665331\n",
      "  7.34869739  7.37074148  7.39278557  7.41482966  7.43687375  7.45891784\n",
      "  7.48096192  7.50300601  7.5250501   7.54709419  7.56913828  7.59118236\n",
      "  7.61322645  7.63527054  7.65731463  7.67935872  7.70140281  7.72344689\n",
      "  7.74549098  7.76753507  7.78957916  7.81162325  7.83366733  7.85571142\n",
      "  7.87775551  7.8997996   7.92184369  7.94388778  7.96593186  7.98797595\n",
      "  8.01002004  8.03206413  8.05410822  8.0761523   8.09819639  8.12024048\n",
      "  8.14228457  8.16432866  8.18637275  8.20841683  8.23046092  8.25250501\n",
      "  8.2745491   8.29659319  8.31863727  8.34068136  8.36272545  8.38476954\n",
      "  8.40681363  8.42885772  8.4509018   8.47294589  8.49498998  8.51703407\n",
      "  8.53907816  8.56112224  8.58316633  8.60521042  8.62725451  8.6492986\n",
      "  8.67134269  8.69338677  8.71543086  8.73747495  8.75951904  8.78156313\n",
      "  8.80360721  8.8256513   8.84769539  8.86973948  8.89178357  8.91382766\n",
      "  8.93587174  8.95791583  8.97995992  9.00200401  9.0240481   9.04609218\n",
      "  9.06813627  9.09018036  9.11222445  9.13426854  9.15631263  9.17835671\n",
      "  9.2004008   9.22244489  9.24448898  9.26653307  9.28857715  9.31062124\n",
      "  9.33266533  9.35470942  9.37675351  9.3987976   9.42084168  9.44288577\n",
      "  9.46492986  9.48697395  9.50901804  9.53106212  9.55310621  9.5751503\n",
      "  9.59719439  9.61923848  9.64128257  9.66332665  9.68537074  9.70741483\n",
      "  9.72945892  9.75150301  9.77354709  9.79559118  9.81763527  9.83967936\n",
      "  9.86172345  9.88376754  9.90581162  9.92785571  9.9498998   9.97194389\n",
      "  9.99398798 10.01603206 10.03807615 10.06012024 10.08216433 10.10420842\n",
      " 10.12625251 10.14829659 10.17034068 10.19238477 10.21442886 10.23647295\n",
      " 10.25851703 10.28056112 10.30260521 10.3246493  10.34669339 10.36873747\n",
      " 10.39078156 10.41282565 10.43486974 10.45691383 10.47895792 10.501002\n",
      " 10.52304609 10.54509018 10.56713427 10.58917836 10.61122244 10.63326653\n",
      " 10.65531062 10.67735471 10.6993988  10.72144289 10.74348697 10.76553106\n",
      " 10.78757515 10.80961924 10.83166333 10.85370741 10.8757515  10.89779559\n",
      " 10.91983968 10.94188377 10.96392786 10.98597194 11.00801603 11.03006012\n",
      " 11.05210421 11.0741483  11.09619238 11.11823647 11.14028056 11.16232465\n",
      " 11.18436874 11.20641283 11.22845691 11.250501   11.27254509 11.29458918\n",
      " 11.31663327 11.33867735 11.36072144 11.38276553 11.40480962 11.42685371\n",
      " 11.4488978  11.47094188 11.49298597 11.51503006 11.53707415 11.55911824\n",
      " 11.58116232 11.60320641 11.6252505  11.64729459 11.66933868 11.69138277\n",
      " 11.71342685 11.73547094 11.75751503 11.77955912 11.80160321 11.82364729\n",
      " 11.84569138 11.86773547 11.88977956 11.91182365 11.93386774 11.95591182\n",
      " 11.97795591 12.        ]\n"
     ]
    }
   ],
   "source": [
    "print(ar4)"
   ]
  },
  {
   "cell_type": "code",
   "execution_count": 46,
   "metadata": {},
   "outputs": [
    {
     "name": "stdout",
     "output_type": "stream",
     "text": [
      "[1.    1.565]\n"
     ]
    },
    {
     "data": {
      "text/plain": [
       "2"
      ]
     },
     "execution_count": 46,
     "metadata": {},
     "output_type": "execute_result"
    }
   ],
   "source": [
    "ar3=np.arange(1,2,.565)\n",
    "print(ar3)\n",
    "len(ar3)"
   ]
  },
  {
   "cell_type": "code",
   "execution_count": 42,
   "metadata": {},
   "outputs": [
    {
     "name": "stdout",
     "output_type": "stream",
     "text": [
      "[1.         1.99009901 2.98019802 3.97029703 4.96039604 5.95049505\n",
      " 6.94059406 7.93069307 8.92079208 9.91089109]\n"
     ]
    }
   ],
   "source": [
    "ar3=np.arange(1,10,100/101)\n",
    "print(ar3)"
   ]
  },
  {
   "cell_type": "code",
   "execution_count": 49,
   "metadata": {},
   "outputs": [],
   "source": [
    "ar5=np.random.rand(1,5) #random float values will be printed there"
   ]
  },
  {
   "cell_type": "code",
   "execution_count": 50,
   "metadata": {},
   "outputs": [
    {
     "data": {
      "text/plain": [
       "array([[0.46717962, 0.79992933, 0.14850393, 0.25372441, 0.68987011]])"
      ]
     },
     "execution_count": 50,
     "metadata": {},
     "output_type": "execute_result"
    }
   ],
   "source": [
    "ar5"
   ]
  },
  {
   "cell_type": "code",
   "execution_count": 55,
   "metadata": {},
   "outputs": [],
   "source": [
    "ar5=np.random.rand(2,3)"
   ]
  },
  {
   "cell_type": "code",
   "execution_count": 56,
   "metadata": {},
   "outputs": [
    {
     "data": {
      "text/plain": [
       "(2, 3)"
      ]
     },
     "execution_count": 56,
     "metadata": {},
     "output_type": "execute_result"
    }
   ],
   "source": [
    "ar5.shape"
   ]
  },
  {
   "cell_type": "code",
   "execution_count": 5,
   "metadata": {},
   "outputs": [],
   "source": [
    "import numpy as np\n",
    "x=np.random.randn(3,3)"
   ]
  },
  {
   "cell_type": "code",
   "execution_count": 6,
   "metadata": {},
   "outputs": [
    {
     "data": {
      "text/plain": [
       "array([[[ 0.20448856, -0.48164959],\n",
       "        [ 1.05820406, -0.07442985],\n",
       "        [-0.34992039, -0.06446847]],\n",
       "\n",
       "       [[-0.06791407, -1.56224958],\n",
       "        [ 0.88186938, -0.28804731],\n",
       "        [-0.26357037,  0.04259276]],\n",
       "\n",
       "       [[-0.11030682, -0.49545405],\n",
       "        [ 1.5739669 ,  0.93218865],\n",
       "        [-0.03739754, -0.96590738]]])"
      ]
     },
     "execution_count": 6,
     "metadata": {},
     "output_type": "execute_result"
    }
   ],
   "source": [
    "x"
   ]
  },
  {
   "cell_type": "code",
   "execution_count": 63,
   "metadata": {},
   "outputs": [
    {
     "data": {
      "text/plain": [
       "(3, 3)"
      ]
     },
     "execution_count": 63,
     "metadata": {},
     "output_type": "execute_result"
    }
   ],
   "source": [
    "x.shape"
   ]
  },
  {
   "cell_type": "code",
   "execution_count": 64,
   "metadata": {},
   "outputs": [],
   "source": [
    "ar5=np.random.rand(5,6)\n",
    "#structure (randomly generator fuction (size))"
   ]
  },
  {
   "cell_type": "code",
   "execution_count": 68,
   "metadata": {},
   "outputs": [
    {
     "ename": "ValueError",
     "evalue": "low >= high",
     "output_type": "error",
     "traceback": [
      "\u001b[1;31m---------------------------------------------------------------------------\u001b[0m",
      "\u001b[1;31mValueError\u001b[0m                                Traceback (most recent call last)",
      "\u001b[1;32m<ipython-input-68-849cf6222e87>\u001b[0m in \u001b[0;36m<module>\u001b[1;34m\u001b[0m\n\u001b[1;32m----> 1\u001b[1;33m \u001b[0mnp\u001b[0m\u001b[1;33m.\u001b[0m\u001b[0mrandom\u001b[0m\u001b[1;33m.\u001b[0m\u001b[0mrandint\u001b[0m\u001b[1;33m(\u001b[0m\u001b[1;36m0\u001b[0m\u001b[1;33m,\u001b[0m\u001b[0msize\u001b[0m\u001b[1;33m=\u001b[0m\u001b[1;33m(\u001b[0m\u001b[1;36m4\u001b[0m\u001b[1;33m,\u001b[0m\u001b[1;36m3\u001b[0m\u001b[1;33m)\u001b[0m\u001b[1;33m)\u001b[0m\u001b[1;33m\u001b[0m\u001b[1;33m\u001b[0m\u001b[0m\n\u001b[0m",
      "\u001b[1;32mmtrand.pyx\u001b[0m in \u001b[0;36mnumpy.random.mtrand.RandomState.randint\u001b[1;34m()\u001b[0m\n",
      "\u001b[1;32m_bounded_integers.pyx\u001b[0m in \u001b[0;36mnumpy.random._bounded_integers._rand_int32\u001b[1;34m()\u001b[0m\n",
      "\u001b[1;31mValueError\u001b[0m: low >= high"
     ]
    }
   ],
   "source": [
    "np.random.randint(2,size=(4,3))"
   ]
  },
  {
   "cell_type": "code",
   "execution_count": 5,
   "metadata": {},
   "outputs": [
    {
     "data": {
      "text/plain": [
       "array([[[0, 0, 0],\n",
       "        [0, 0, 0],\n",
       "        [0, 0, 0]],\n",
       "\n",
       "       [[0, 0, 0],\n",
       "        [0, 0, 0],\n",
       "        [0, 0, 0]],\n",
       "\n",
       "       [[0, 0, 0],\n",
       "        [0, 0, 0],\n",
       "        [0, 0, 0]]])"
      ]
     },
     "execution_count": 5,
     "metadata": {},
     "output_type": "execute_result"
    }
   ],
   "source": [
    "import numpy as np\n",
    "np.random.randint(1,size=(3,3,3))"
   ]
  },
  {
   "cell_type": "code",
   "execution_count": 6,
   "metadata": {},
   "outputs": [
    {
     "data": {
      "text/plain": [
       "array([[[0, 0, 0],\n",
       "        [0, 0, 0],\n",
       "        [0, 0, 0]],\n",
       "\n",
       "       [[0, 0, 0],\n",
       "        [0, 0, 0],\n",
       "        [0, 0, 0]],\n",
       "\n",
       "       [[0, 0, 0],\n",
       "        [0, 0, 0],\n",
       "        [0, 0, 0]]])"
      ]
     },
     "execution_count": 6,
     "metadata": {},
     "output_type": "execute_result"
    }
   ],
   "source": [
    "import numpy as np\n",
    "np.random.randint(1,size=(3,3,3))"
   ]
  },
  {
   "cell_type": "code",
   "execution_count": 7,
   "metadata": {},
   "outputs": [
    {
     "data": {
      "text/plain": [
       "array([[[0., 0., 0.],\n",
       "        [0., 0., 0.],\n",
       "        [0., 0., 0.]],\n",
       "\n",
       "       [[0., 0., 0.],\n",
       "        [0., 0., 0.],\n",
       "        [0., 0., 0.]],\n",
       "\n",
       "       [[0., 0., 0.],\n",
       "        [0., 0., 0.],\n",
       "        [0., 0., 0.]]])"
      ]
     },
     "execution_count": 7,
     "metadata": {},
     "output_type": "execute_result"
    }
   ],
   "source": [
    "np.zeros(shape=(3,3,3))"
   ]
  },
  {
   "cell_type": "code",
   "execution_count": 8,
   "metadata": {},
   "outputs": [],
   "source": [
    "?np.random.rand"
   ]
  },
  {
   "cell_type": "code",
   "execution_count": null,
   "metadata": {},
   "outputs": [],
   "source": []
  }
 ],
 "metadata": {
  "kernelspec": {
   "display_name": "Python 3",
   "language": "python",
   "name": "python3"
  },
  "language_info": {
   "codemirror_mode": {
    "name": "ipython",
    "version": 3
   },
   "file_extension": ".py",
   "mimetype": "text/x-python",
   "name": "python",
   "nbconvert_exporter": "python",
   "pygments_lexer": "ipython3",
   "version": "3.9.1"
  }
 },
 "nbformat": 4,
 "nbformat_minor": 2
}
