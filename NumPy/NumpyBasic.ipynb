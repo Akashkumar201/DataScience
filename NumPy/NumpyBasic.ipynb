{
 "cells": [
  {
   "cell_type": "markdown",
   "id": "4194ae4e",
   "metadata": {},
   "source": [
    "# Hey\n",
    "## hello\n",
    "### bye"
   ]
  },
  {
   "cell_type": "code",
   "execution_count": 3,
   "id": "fc3c9f31",
   "metadata": {},
   "outputs": [
    {
     "name": "stderr",
     "output_type": "stream",
     "text": [
      "c:\\users\\user\\appdata\\local\\programs\\python\\python39\\lib\\site-packages\\fuzzywuzzy\\fuzz.py:11: UserWarning: Using slow pure-python SequenceMatcher. Install python-Levenshtein to remove this warning\n",
      "  warnings.warn('Using slow pure-python SequenceMatcher. Install python-Levenshtein to remove this warning')\n"
     ]
    }
   ],
   "source": []
  },
  {
   "cell_type": "code",
   "execution_count": 2,
   "id": "338b43f0",
   "metadata": {},
   "outputs": [
    {
     "name": "stdout",
     "output_type": "stream",
     "text": [
      "Collecting fuzzywuzzy\n",
      "  Downloading fuzzywuzzy-0.18.0-py2.py3-none-any.whl (18 kB)\n",
      "Installing collected packages: fuzzywuzzy\n",
      "Successfully installed fuzzywuzzy-0.18.0\n",
      "Note: you may need to restart the kernel to use updated packages.\n"
     ]
    }
   ],
   "source": [
    "pip install fuzzywuzzy"
   ]
  },
  {
   "cell_type": "code",
   "execution_count": 4,
   "id": "c1a7f535",
   "metadata": {},
   "outputs": [],
   "source": [
    "from fuzzywuzzy import fuzz"
   ]
  },
  {
   "cell_type": "code",
   "execution_count": 5,
   "id": "0fb88418",
   "metadata": {},
   "outputs": [],
   "source": [
    "import array"
   ]
  },
  {
   "cell_type": "code",
   "execution_count": 6,
   "id": "56aade46",
   "metadata": {},
   "outputs": [],
   "source": [
    "ls=list(range(10))"
   ]
  },
  {
   "cell_type": "code",
   "execution_count": 7,
   "id": "911967cb",
   "metadata": {},
   "outputs": [
    {
     "data": {
      "text/plain": [
       "[0, 1, 2, 3, 4, 5, 6, 7, 8, 9]"
      ]
     },
     "execution_count": 7,
     "metadata": {},
     "output_type": "execute_result"
    }
   ],
   "source": [
    "ls"
   ]
  },
  {
   "cell_type": "code",
   "execution_count": 24,
   "id": "4ee4c8b5",
   "metadata": {},
   "outputs": [
    {
     "data": {
      "text/plain": [
       "list"
      ]
     },
     "execution_count": 24,
     "metadata": {},
     "output_type": "execute_result"
    }
   ],
   "source": [
    "type(ls)"
   ]
  },
  {
   "cell_type": "code",
   "execution_count": 15,
   "id": "3e707e91",
   "metadata": {},
   "outputs": [],
   "source": [
    "var=array.array(\"i\",ls)# i indicate ther integaer here"
   ]
  },
  {
   "cell_type": "code",
   "execution_count": 16,
   "id": "3066de81",
   "metadata": {},
   "outputs": [
    {
     "data": {
      "text/plain": [
       "array('i', [0, 1, 2, 3, 4, 5, 6, 7, 8, 9])"
      ]
     },
     "execution_count": 16,
     "metadata": {},
     "output_type": "execute_result"
    }
   ],
   "source": [
    "var"
   ]
  },
  {
   "cell_type": "code",
   "execution_count": 17,
   "id": "e22857f5",
   "metadata": {},
   "outputs": [
    {
     "name": "stdout",
     "output_type": "stream",
     "text": [
      "array('i', [0, 1, 2, 3, 4, 5, 6, 7, 8, 9])\n"
     ]
    }
   ],
   "source": [
    "print(var)"
   ]
  },
  {
   "cell_type": "code",
   "execution_count": 18,
   "id": "b51ac4bf",
   "metadata": {},
   "outputs": [],
   "source": [
    "import numpy as np"
   ]
  },
  {
   "cell_type": "code",
   "execution_count": 19,
   "id": "1189f14c",
   "metadata": {},
   "outputs": [
    {
     "data": {
      "text/plain": [
       "array([[1., 0., 0.],\n",
       "       [0., 1., 0.],\n",
       "       [0., 0., 1.]])"
      ]
     },
     "execution_count": 19,
     "metadata": {},
     "output_type": "execute_result"
    }
   ],
   "source": [
    "np.eye(3)"
   ]
  },
  {
   "cell_type": "code",
   "execution_count": 23,
   "id": "aaa2ebf7",
   "metadata": {},
   "outputs": [
    {
     "data": {
      "text/plain": [
       "array([2.12199579e-314, 2.16847386e-028, 3.51774740e-321, 3.79442416e-321])"
      ]
     },
     "execution_count": 23,
     "metadata": {},
     "output_type": "execute_result"
    }
   ],
   "source": [
    "np.empty(4)"
   ]
  },
  {
   "cell_type": "markdown",
   "id": "dcb40528",
   "metadata": {},
   "source": [
    "# Data Types of Nupy\n"
   ]
  },
  {
   "cell_type": "markdown",
   "id": "3481981a",
   "metadata": {},
   "source": [
    "-boolen (true or false)\n",
    "-int \"$int32$\" and \"$int64$\",(\"int8\",use in indexing)\n",
    "\n",
    "-float \"float32\" and \"float64\"\n",
    "\n",
    "-complex complex64 and complext32 comes unse the float"
   ]
  },
  {
   "cell_type": "code",
   "execution_count": 25,
   "id": "a83391b1",
   "metadata": {},
   "outputs": [],
   "source": [
    "#seed"
   ]
  },
  {
   "cell_type": "code",
   "execution_count": 26,
   "id": "cb0c481b",
   "metadata": {},
   "outputs": [],
   "source": [
    "x1=np.random.seed(1)"
   ]
  },
  {
   "cell_type": "code",
   "execution_count": 39,
   "id": "73d0b873",
   "metadata": {},
   "outputs": [],
   "source": [
    "var1=np.random.randint(10,size=6)\n",
    "var2=np.random.randint(10,size=(5,5))\n",
    "var3=np.random.randint(10,size=(4,5,6))"
   ]
  },
  {
   "cell_type": "code",
   "execution_count": 40,
   "id": "846f0ff5",
   "metadata": {},
   "outputs": [
    {
     "name": "stdout",
     "output_type": "stream",
     "text": [
      "the diminsion 1\n",
      "the shape of value (5, 5)\n",
      "size is 120\n",
      "the dtype is  int32\n"
     ]
    }
   ],
   "source": [
    "print(\"the diminsion\",var1.ndim)\n",
    "print(\"the shape of value\",var2.shape)\n",
    "print(\"size is\",var3.size)\n",
    "print(\"the dtype is \",var3.dtype)"
   ]
  },
  {
   "cell_type": "code",
   "execution_count": 41,
   "id": "460984d4",
   "metadata": {},
   "outputs": [
    {
     "data": {
      "text/plain": [
       "array([[7, 5, 3, 8, 8],\n",
       "       [0, 6, 7, 9, 5],\n",
       "       [4, 9, 5, 2, 5],\n",
       "       [6, 6, 8, 7, 7],\n",
       "       [7, 2, 6, 0, 5]])"
      ]
     },
     "execution_count": 41,
     "metadata": {},
     "output_type": "execute_result"
    }
   ],
   "source": [
    "var2"
   ]
  },
  {
   "cell_type": "code",
   "execution_count": 42,
   "id": "de2f71ce",
   "metadata": {},
   "outputs": [
    {
     "data": {
      "text/plain": [
       "7"
      ]
     },
     "execution_count": 42,
     "metadata": {},
     "output_type": "execute_result"
    }
   ],
   "source": [
    "var2[0][0]"
   ]
  },
  {
   "cell_type": "code",
   "execution_count": 44,
   "id": "d0ce1eeb",
   "metadata": {},
   "outputs": [
    {
     "data": {
      "text/plain": [
       "7"
      ]
     },
     "execution_count": 44,
     "metadata": {},
     "output_type": "execute_result"
    }
   ],
   "source": [
    "var2[0,0] #indexing can be done is same way row,column"
   ]
  },
  {
   "cell_type": "code",
   "execution_count": 50,
   "id": "28d88519",
   "metadata": {},
   "outputs": [
    {
     "data": {
      "text/plain": [
       "array([5, 2])"
      ]
     },
     "execution_count": 50,
     "metadata": {},
     "output_type": "execute_result"
    }
   ],
   "source": [
    "var2[2,2:4]"
   ]
  },
  {
   "cell_type": "code",
   "execution_count": 51,
   "id": "d0063b79",
   "metadata": {},
   "outputs": [],
   "source": [
    "# from secound row strach 34"
   ]
  },
  {
   "cell_type": "code",
   "execution_count": 60,
   "id": "c2f160d2",
   "metadata": {},
   "outputs": [
    {
     "data": {
      "text/plain": [
       "array([0, 3, 9, 0, 3, 4])"
      ]
     },
     "execution_count": 60,
     "metadata": {},
     "output_type": "execute_result"
    }
   ],
   "source": [
    "var1"
   ]
  },
  {
   "cell_type": "code",
   "execution_count": 61,
   "id": "7cdd03ef",
   "metadata": {},
   "outputs": [
    {
     "data": {
      "text/plain": [
       "array([9, 0, 3, 4])"
      ]
     },
     "execution_count": 61,
     "metadata": {},
     "output_type": "execute_result"
    }
   ],
   "source": [
    "var1[2:]"
   ]
  },
  {
   "cell_type": "code",
   "execution_count": 62,
   "id": "dccb368f",
   "metadata": {},
   "outputs": [
    {
     "data": {
      "text/plain": [
       "array([9, 0])"
      ]
     },
     "execution_count": 62,
     "metadata": {},
     "output_type": "execute_result"
    }
   ],
   "source": [
    "var1[2:4]"
   ]
  },
  {
   "cell_type": "code",
   "execution_count": 63,
   "id": "2efed678",
   "metadata": {},
   "outputs": [
    {
     "data": {
      "text/plain": [
       "array([[7, 5, 3, 8, 8],\n",
       "       [0, 6, 7, 9, 5],\n",
       "       [4, 9, 5, 2, 5],\n",
       "       [6, 6, 8, 7, 7],\n",
       "       [7, 2, 6, 0, 5]])"
      ]
     },
     "execution_count": 63,
     "metadata": {},
     "output_type": "execute_result"
    }
   ],
   "source": [
    "var2"
   ]
  },
  {
   "cell_type": "code",
   "execution_count": 65,
   "id": "26f4cb7a",
   "metadata": {},
   "outputs": [
    {
     "data": {
      "text/plain": [
       "array([[5, 0, 6, 2, 7],\n",
       "       [7, 7, 8, 6, 6],\n",
       "       [5, 2, 5, 9, 4],\n",
       "       [5, 9, 7, 6, 0],\n",
       "       [8, 8, 3, 5, 7]])"
      ]
     },
     "execution_count": 65,
     "metadata": {},
     "output_type": "execute_result"
    }
   ],
   "source": [
    "var2[::-1,::-1]"
   ]
  },
  {
   "cell_type": "code",
   "execution_count": 66,
   "id": "16c4e9b7",
   "metadata": {},
   "outputs": [
    {
     "data": {
      "text/plain": [
       "array([[7, 2, 6, 0, 5],\n",
       "       [6, 6, 8, 7, 7],\n",
       "       [4, 9, 5, 2, 5],\n",
       "       [0, 6, 7, 9, 5],\n",
       "       [7, 5, 3, 8, 8]])"
      ]
     },
     "execution_count": 66,
     "metadata": {},
     "output_type": "execute_result"
    }
   ],
   "source": [
    "var2[::-1]"
   ]
  },
  {
   "cell_type": "code",
   "execution_count": 67,
   "id": "d3c844a5",
   "metadata": {},
   "outputs": [
    {
     "data": {
      "text/plain": [
       "array([[7, 2, 6, 0, 5],\n",
       "       [6, 6, 8, 7, 7],\n",
       "       [4, 9, 5, 2, 5],\n",
       "       [0, 6, 7, 9, 5],\n",
       "       [7, 5, 3, 8, 8]])"
      ]
     },
     "execution_count": 67,
     "metadata": {},
     "output_type": "execute_result"
    }
   ],
   "source": [
    "var2[::-1]"
   ]
  },
  {
   "cell_type": "code",
   "execution_count": 90,
   "id": "20338ebe",
   "metadata": {},
   "outputs": [],
   "source": [
    "#reshaping the array \n",
    "var4=np.arange(1,10).reshape(3,3)"
   ]
  },
  {
   "cell_type": "code",
   "execution_count": 91,
   "id": "8db99944",
   "metadata": {},
   "outputs": [
    {
     "data": {
      "text/plain": [
       "array([[1, 2, 3],\n",
       "       [4, 5, 6],\n",
       "       [7, 8, 9]])"
      ]
     },
     "execution_count": 91,
     "metadata": {},
     "output_type": "execute_result"
    }
   ],
   "source": [
    "var4"
   ]
  },
  {
   "cell_type": "code",
   "execution_count": 92,
   "id": "e0252b8c",
   "metadata": {},
   "outputs": [
    {
     "ename": "ValueError",
     "evalue": "cannot reshape array of size 9 into shape (1,10)",
     "output_type": "error",
     "traceback": [
      "\u001b[1;31m---------------------------------------------------------------------------\u001b[0m",
      "\u001b[1;31mValueError\u001b[0m                                Traceback (most recent call last)",
      "\u001b[1;32m<ipython-input-92-2468201a4a47>\u001b[0m in \u001b[0;36m<module>\u001b[1;34m\u001b[0m\n\u001b[1;32m----> 1\u001b[1;33m \u001b[0mvar4\u001b[0m\u001b[1;33m.\u001b[0m\u001b[0mreshape\u001b[0m\u001b[1;33m(\u001b[0m\u001b[1;36m1\u001b[0m\u001b[1;33m,\u001b[0m\u001b[1;36m10\u001b[0m\u001b[1;33m)\u001b[0m\u001b[1;33m\u001b[0m\u001b[1;33m\u001b[0m\u001b[0m\n\u001b[0m",
      "\u001b[1;31mValueError\u001b[0m: cannot reshape array of size 9 into shape (1,10)"
     ]
    }
   ],
   "source": [
    "var4.reshape(1,10)"
   ]
  },
  {
   "cell_type": "code",
   "execution_count": 83,
   "id": "87ce2a1a",
   "metadata": {},
   "outputs": [],
   "source": [
    "##reshape\n",
    "## you hvae called emp table here present only 1 ow and you have 5 column \n",
    "##you hvae an another data department table they have 2 rows and 10 columns\n",
    "var=np.array([1,2,3,4,5,6])"
   ]
  },
  {
   "cell_type": "code",
   "execution_count": 84,
   "id": "6556a641",
   "metadata": {},
   "outputs": [
    {
     "data": {
      "text/plain": [
       "array([1, 2, 3, 4, 5, 6])"
      ]
     },
     "execution_count": 84,
     "metadata": {},
     "output_type": "execute_result"
    }
   ],
   "source": [
    "var"
   ]
  },
  {
   "cell_type": "code",
   "execution_count": 93,
   "id": "5f6119b5",
   "metadata": {},
   "outputs": [
    {
     "data": {
      "text/plain": [
       "array([[1, 2, 3, 4, 5, 6]])"
      ]
     },
     "execution_count": 93,
     "metadata": {},
     "output_type": "execute_result"
    }
   ],
   "source": [
    "var.reshape(1,6)"
   ]
  },
  {
   "cell_type": "code",
   "execution_count": 94,
   "id": "e9ef258c",
   "metadata": {},
   "outputs": [
    {
     "data": {
      "text/plain": [
       "array([[1],\n",
       "       [2],\n",
       "       [3],\n",
       "       [4],\n",
       "       [5],\n",
       "       [6]])"
      ]
     },
     "execution_count": 94,
     "metadata": {},
     "output_type": "execute_result"
    }
   ],
   "source": [
    "var.reshape(6,1)"
   ]
  },
  {
   "cell_type": "code",
   "execution_count": null,
   "id": "7bb91f98",
   "metadata": {},
   "outputs": [],
   "source": [
    "var.reshape(6,1)"
   ]
  },
  {
   "cell_type": "code",
   "execution_count": 95,
   "id": "4415b91f",
   "metadata": {},
   "outputs": [],
   "source": [
    "var5=np.arange(1,5)\n",
    "var6=np.arange(6,10)"
   ]
  },
  {
   "cell_type": "code",
   "execution_count": 96,
   "id": "a9b5c2f2",
   "metadata": {},
   "outputs": [
    {
     "name": "stdout",
     "output_type": "stream",
     "text": [
      "[1 2 3 4]\n",
      "[6 7 8 9]\n"
     ]
    }
   ],
   "source": [
    "print(var5)\n",
    "print(var6)"
   ]
  },
  {
   "cell_type": "code",
   "execution_count": 98,
   "id": "0bd76584",
   "metadata": {},
   "outputs": [],
   "source": [
    "var7=np.concatenate([var5,var6])"
   ]
  },
  {
   "cell_type": "code",
   "execution_count": 99,
   "id": "bde54460",
   "metadata": {},
   "outputs": [
    {
     "data": {
      "text/plain": [
       "array([1, 2, 3, 4, 6, 7, 8, 9])"
      ]
     },
     "execution_count": 99,
     "metadata": {},
     "output_type": "execute_result"
    }
   ],
   "source": [
    "var7"
   ]
  },
  {
   "cell_type": "code",
   "execution_count": 100,
   "id": "b63f0fb6",
   "metadata": {},
   "outputs": [],
   "source": [
    "var8=np.var8=np.concatenate([var6,var5])"
   ]
  },
  {
   "cell_type": "code",
   "execution_count": 101,
   "id": "d519702d",
   "metadata": {},
   "outputs": [
    {
     "data": {
      "text/plain": [
       "array([6, 7, 8, 9, 1, 2, 3, 4])"
      ]
     },
     "execution_count": 101,
     "metadata": {},
     "output_type": "execute_result"
    }
   ],
   "source": [
    "var8"
   ]
  },
  {
   "cell_type": "code",
   "execution_count": 104,
   "id": "0e25a40a",
   "metadata": {},
   "outputs": [],
   "source": [
    "var8=var8=np.concatenate([var6,var5,var7,var6])"
   ]
  },
  {
   "cell_type": "code",
   "execution_count": 105,
   "id": "60fc7619",
   "metadata": {},
   "outputs": [
    {
     "data": {
      "text/plain": [
       "array([6, 7, 8, 9, 1, 2, 3, 4, 1, 2, 3, 4, 6, 7, 8, 9, 6, 7, 8, 9])"
      ]
     },
     "execution_count": 105,
     "metadata": {},
     "output_type": "execute_result"
    }
   ],
   "source": [
    "var8"
   ]
  },
  {
   "cell_type": "code",
   "execution_count": 106,
   "id": "cd4b54d0",
   "metadata": {},
   "outputs": [
    {
     "ename": "AttributeError",
     "evalue": "'numpy.ndarray' object has no attribute 'split'",
     "output_type": "error",
     "traceback": [
      "\u001b[1;31m---------------------------------------------------------------------------\u001b[0m",
      "\u001b[1;31mAttributeError\u001b[0m                            Traceback (most recent call last)",
      "\u001b[1;32m<ipython-input-106-be83bb386844>\u001b[0m in \u001b[0;36m<module>\u001b[1;34m\u001b[0m\n\u001b[0;32m      1\u001b[0m \u001b[1;31m#spit function\u001b[0m\u001b[1;33m\u001b[0m\u001b[1;33m\u001b[0m\u001b[1;33m\u001b[0m\u001b[0m\n\u001b[0;32m      2\u001b[0m \u001b[1;33m\u001b[0m\u001b[0m\n\u001b[1;32m----> 3\u001b[1;33m \u001b[0mvar8\u001b[0m\u001b[1;33m.\u001b[0m\u001b[0msplit\u001b[0m\u001b[1;33m(\u001b[0m\u001b[1;33m)\u001b[0m\u001b[1;33m\u001b[0m\u001b[1;33m\u001b[0m\u001b[0m\n\u001b[0m",
      "\u001b[1;31mAttributeError\u001b[0m: 'numpy.ndarray' object has no attribute 'split'"
     ]
    }
   ],
   "source": [
    "#spit function\n",
    "#same as the string and we done lit previously \n",
    "\n"
   ]
  },
  {
   "cell_type": "code",
   "execution_count": 122,
   "id": "bdea454a",
   "metadata": {},
   "outputs": [],
   "source": [
    "var9=np.arange(1,11)"
   ]
  },
  {
   "cell_type": "code",
   "execution_count": 123,
   "id": "efb256be",
   "metadata": {},
   "outputs": [
    {
     "data": {
      "text/plain": [
       "array([ 1,  2,  3,  4,  5,  6,  7,  8,  9, 10])"
      ]
     },
     "execution_count": 123,
     "metadata": {},
     "output_type": "execute_result"
    }
   ],
   "source": [
    "var9"
   ]
  },
  {
   "cell_type": "code",
   "execution_count": 124,
   "id": "39b85e58",
   "metadata": {},
   "outputs": [],
   "source": [
    "var10=np.split(var9,[2])"
   ]
  },
  {
   "cell_type": "code",
   "execution_count": 125,
   "id": "c309e29e",
   "metadata": {},
   "outputs": [
    {
     "data": {
      "text/plain": [
       "[array([1, 2]), array([ 3,  4,  5,  6,  7,  8,  9, 10])]"
      ]
     },
     "execution_count": 125,
     "metadata": {},
     "output_type": "execute_result"
    }
   ],
   "source": [
    "var10"
   ]
  },
  {
   "cell_type": "code",
   "execution_count": 126,
   "id": "8f3f557b",
   "metadata": {},
   "outputs": [],
   "source": [
    "var11,var12,var13=np.split(var9,[2,5])"
   ]
  },
  {
   "cell_type": "code",
   "execution_count": 127,
   "id": "b4632871",
   "metadata": {},
   "outputs": [
    {
     "name": "stdout",
     "output_type": "stream",
     "text": [
      "[1 2] [3 4 5] [ 6  7  8  9 10]\n"
     ]
    }
   ],
   "source": [
    "print(var11,var12,var13)"
   ]
  },
  {
   "cell_type": "code",
   "execution_count": 130,
   "id": "6b42a69c",
   "metadata": {},
   "outputs": [],
   "source": [
    "var11,var12,var13=np.split(var9,[2,5])"
   ]
  },
  {
   "cell_type": "code",
   "execution_count": 136,
   "id": "3db0b488",
   "metadata": {},
   "outputs": [],
   "source": [
    "var13=np.split(var9,[9])"
   ]
  },
  {
   "cell_type": "code",
   "execution_count": 137,
   "id": "a7a5ae94",
   "metadata": {},
   "outputs": [
    {
     "data": {
      "text/plain": [
       "[array([1, 2, 3, 4, 5, 6, 7, 8, 9]), array([10])]"
      ]
     },
     "execution_count": 137,
     "metadata": {},
     "output_type": "execute_result"
    }
   ],
   "source": [
    "var13"
   ]
  },
  {
   "cell_type": "markdown",
   "id": "fd84ee27",
   "metadata": {},
   "source": [
    "# Arthmatic Fuction in Nupy\n",
    "- np.add(+)\n",
    "- np.subract(-)\n",
    "- np.multiply(*)\n",
    "- np.division()/\n",
    "- np.floor(//)\n",
    "- np.mod(%)\n",
    "- np.power('')\n",
    "- np.sqrt('')"
   ]
  },
  {
   "cell_type": "code",
   "execution_count": 148,
   "id": "4eaf3a08",
   "metadata": {},
   "outputs": [],
   "source": [
    "a1=np.array([11,99,55,42,-20,6,0,-13])"
   ]
  },
  {
   "cell_type": "code",
   "execution_count": 149,
   "id": "4f949cac",
   "metadata": {},
   "outputs": [
    {
     "data": {
      "text/plain": [
       "array([ 11,  99,  55,  42, -20,   6,   0, -13])"
      ]
     },
     "execution_count": 149,
     "metadata": {},
     "output_type": "execute_result"
    }
   ],
   "source": [
    "a1"
   ]
  },
  {
   "cell_type": "code",
   "execution_count": 150,
   "id": "990fb1c7",
   "metadata": {},
   "outputs": [],
   "source": [
    "a2=np.abs(a1)"
   ]
  },
  {
   "cell_type": "code",
   "execution_count": 151,
   "id": "1cda87f2",
   "metadata": {},
   "outputs": [
    {
     "data": {
      "text/plain": [
       "array([11, 99, 55, 42, 20,  6,  0, 13])"
      ]
     },
     "execution_count": 151,
     "metadata": {},
     "output_type": "execute_result"
    }
   ],
   "source": [
    "a2"
   ]
  },
  {
   "cell_type": "code",
   "execution_count": 152,
   "id": "80dc6915",
   "metadata": {},
   "outputs": [],
   "source": [
    "a4=np.add(a1,a2)"
   ]
  },
  {
   "cell_type": "code",
   "execution_count": 153,
   "id": "b5d90c3e",
   "metadata": {},
   "outputs": [
    {
     "data": {
      "text/plain": [
       "array([ 22, 198, 110,  84,   0,  12,   0,   0])"
      ]
     },
     "execution_count": 153,
     "metadata": {},
     "output_type": "execute_result"
    }
   ],
   "source": [
    "a4"
   ]
  },
  {
   "cell_type": "code",
   "execution_count": 162,
   "id": "6aae1832",
   "metadata": {},
   "outputs": [],
   "source": [
    "#a3=np.arange(12,25)\n",
    "a3=np.arange(6)"
   ]
  },
  {
   "cell_type": "code",
   "execution_count": 163,
   "id": "a95e91f9",
   "metadata": {},
   "outputs": [
    {
     "name": "stdout",
     "output_type": "stream",
     "text": [
      "value is : [55 56 57 58 59 60]\n",
      "value is [-10  -9  -8  -7  -6  -5]\n",
      "value is [ 0 12 24 36 48 60]\n",
      "value is [0.         0.16666667 0.33333333 0.5        0.66666667 0.83333333]\n",
      "value is [0 0 0 0 0 0]\n",
      "value is [    0     1    64   729  4096 15625]\n",
      "value is [0 1 2 3 4 5]\n"
     ]
    }
   ],
   "source": [
    "print(\"value is :\",a3+55)\n",
    "print(\"value is\",a3-10)\n",
    "print(\"value is\",a3*12)\n",
    "print(\"value is\",a3/6)\n",
    "print(\"value is\",a3//6)\n",
    "print(\"value is\",a3**6)\n",
    "print(\"value is\",a3%6)\n"
   ]
  },
  {
   "cell_type": "code",
   "execution_count": 164,
   "id": "78c4dccb",
   "metadata": {},
   "outputs": [],
   "source": [
    "a4=np.arange(4)\n",
    "a5=np.arange(6)"
   ]
  },
  {
   "cell_type": "code",
   "execution_count": 165,
   "id": "60ee1b64",
   "metadata": {},
   "outputs": [
    {
     "data": {
      "text/plain": [
       "array([0, 1, 2, 3])"
      ]
     },
     "execution_count": 165,
     "metadata": {},
     "output_type": "execute_result"
    }
   ],
   "source": [
    "a4"
   ]
  },
  {
   "cell_type": "code",
   "execution_count": 166,
   "id": "a9aeb326",
   "metadata": {},
   "outputs": [
    {
     "data": {
      "text/plain": [
       "array([0, 1, 2, 3])"
      ]
     },
     "execution_count": 166,
     "metadata": {},
     "output_type": "execute_result"
    }
   ],
   "source": [
    "a5"
   ]
  },
  {
   "cell_type": "code",
   "execution_count": 167,
   "id": "5e717191",
   "metadata": {},
   "outputs": [],
   "source": [
    "a6=np.add(a4,a5)"
   ]
  },
  {
   "cell_type": "code",
   "execution_count": 168,
   "id": "812a83ad",
   "metadata": {},
   "outputs": [
    {
     "data": {
      "text/plain": [
       "array([0, 2, 4, 6])"
      ]
     },
     "execution_count": 168,
     "metadata": {},
     "output_type": "execute_result"
    }
   ],
   "source": [
    "a6"
   ]
  },
  {
   "cell_type": "code",
   "execution_count": 170,
   "id": "1b7ed8db",
   "metadata": {},
   "outputs": [],
   "source": [
    "a6=np.subtract(a4,a5)"
   ]
  },
  {
   "cell_type": "code",
   "execution_count": 171,
   "id": "2a94aacf",
   "metadata": {},
   "outputs": [
    {
     "data": {
      "text/plain": [
       "array([0, 0, 0, 0])"
      ]
     },
     "execution_count": 171,
     "metadata": {},
     "output_type": "execute_result"
    }
   ],
   "source": [
    "a6"
   ]
  },
  {
   "cell_type": "code",
   "execution_count": 176,
   "id": "3b18f04e",
   "metadata": {},
   "outputs": [],
   "source": [
    "a7=np.average(a4)"
   ]
  },
  {
   "cell_type": "code",
   "execution_count": 178,
   "id": "968789c8",
   "metadata": {},
   "outputs": [
    {
     "data": {
      "text/plain": [
       "1.5"
      ]
     },
     "execution_count": 178,
     "metadata": {},
     "output_type": "execute_result"
    }
   ],
   "source": [
    "a7"
   ]
  },
  {
   "cell_type": "code",
   "execution_count": 181,
   "id": "9feb7c9b",
   "metadata": {},
   "outputs": [],
   "source": [
    "a7=np.multiply(a4,a5)"
   ]
  },
  {
   "cell_type": "code",
   "execution_count": 182,
   "id": "f368e12a",
   "metadata": {},
   "outputs": [
    {
     "data": {
      "text/plain": [
       "array([0, 1, 4, 9])"
      ]
     },
     "execution_count": 182,
     "metadata": {},
     "output_type": "execute_result"
    }
   ],
   "source": [
    "a7"
   ]
  },
  {
   "cell_type": "code",
   "execution_count": 183,
   "id": "8db6a9b1",
   "metadata": {},
   "outputs": [],
   "source": [
    "a8=np.multiply(a4,a5)"
   ]
  },
  {
   "cell_type": "code",
   "execution_count": 184,
   "id": "dee26240",
   "metadata": {},
   "outputs": [
    {
     "data": {
      "text/plain": [
       "array([0, 1, 4, 9])"
      ]
     },
     "execution_count": 184,
     "metadata": {},
     "output_type": "execute_result"
    }
   ],
   "source": [
    "a8"
   ]
  },
  {
   "cell_type": "markdown",
   "id": "f3fdceb4",
   "metadata": {},
   "source": [
    "## Tringonometric Function"
   ]
  },
  {
   "cell_type": "markdown",
   "id": "7af9b3b9",
   "metadata": {},
   "source": [
    "- sin thetha\n",
    "- cos theta\n",
    "- tan theta\n"
   ]
  },
  {
   "cell_type": "code",
   "execution_count": 185,
   "id": "e3a7f8f8",
   "metadata": {},
   "outputs": [],
   "source": [
    "#not more than value 1"
   ]
  },
  {
   "cell_type": "code",
   "execution_count": 190,
   "id": "8a96452c",
   "metadata": {},
   "outputs": [],
   "source": [
    "tri=np.linspace(0,np.pi,3)#most useful function in datascience\n"
   ]
  },
  {
   "cell_type": "code",
   "execution_count": 191,
   "id": "6da6fa13",
   "metadata": {},
   "outputs": [
    {
     "data": {
      "text/plain": [
       "array([0.        , 1.57079633, 3.14159265])"
      ]
     },
     "execution_count": 191,
     "metadata": {},
     "output_type": "execute_result"
    }
   ],
   "source": [
    "tri"
   ]
  },
  {
   "cell_type": "code",
   "execution_count": 195,
   "id": "d2d323cf",
   "metadata": {},
   "outputs": [],
   "source": [
    "tri1=np.arange(1,np.pi,4)"
   ]
  },
  {
   "cell_type": "raw",
   "id": "4f422959",
   "metadata": {},
   "source": [
    "tri1"
   ]
  },
  {
   "cell_type": "code",
   "execution_count": 196,
   "id": "cdf55bbc",
   "metadata": {},
   "outputs": [],
   "source": [
    "angle=np.linspace(0,np.pi,3)#most useful function in datascience\n"
   ]
  },
  {
   "cell_type": "code",
   "execution_count": 197,
   "id": "a94d9720",
   "metadata": {},
   "outputs": [
    {
     "data": {
      "text/plain": [
       "array([0.        , 1.57079633, 3.14159265])"
      ]
     },
     "execution_count": 197,
     "metadata": {},
     "output_type": "execute_result"
    }
   ],
   "source": [
    "angle"
   ]
  },
  {
   "cell_type": "code",
   "execution_count": 200,
   "id": "9cc3d01e",
   "metadata": {},
   "outputs": [],
   "source": [
    "?np.sin"
   ]
  },
  {
   "cell_type": "code",
   "execution_count": 201,
   "id": "202f5231",
   "metadata": {},
   "outputs": [
    {
     "data": {
      "text/plain": [
       "array([0.0000000e+00, 1.0000000e+00, 1.2246468e-16])"
      ]
     },
     "execution_count": 201,
     "metadata": {},
     "output_type": "execute_result"
    }
   ],
   "source": [
    "np.sin(angle)"
   ]
  },
  {
   "cell_type": "code",
   "execution_count": 202,
   "id": "8b92039b",
   "metadata": {},
   "outputs": [
    {
     "data": {
      "text/plain": [
       "array([ 0.00000000e+00,  1.63312394e+16, -1.22464680e-16])"
      ]
     },
     "execution_count": 202,
     "metadata": {},
     "output_type": "execute_result"
    }
   ],
   "source": [
    "np.tan(angle)"
   ]
  },
  {
   "cell_type": "code",
   "execution_count": 203,
   "id": "e943a937",
   "metadata": {},
   "outputs": [
    {
     "data": {
      "text/plain": [
       "array([ 1.000000e+00,  6.123234e-17, -1.000000e+00])"
      ]
     },
     "execution_count": 203,
     "metadata": {},
     "output_type": "execute_result"
    }
   ],
   "source": [
    "np.cos(angle)"
   ]
  },
  {
   "cell_type": "code",
   "execution_count": 7,
   "id": "cd09c0a1",
   "metadata": {},
   "outputs": [],
   "source": [
    "value_of_output=[-1,0,1]"
   ]
  },
  {
   "cell_type": "code",
   "execution_count": 8,
   "id": "41091eef",
   "metadata": {},
   "outputs": [],
   "source": [
    "import numpy as np"
   ]
  },
  {
   "cell_type": "code",
   "execution_count": 9,
   "id": "502ef7fb",
   "metadata": {},
   "outputs": [
    {
     "data": {
      "text/plain": [
       "array([-1.57079633,  0.        ,  1.57079633])"
      ]
     },
     "execution_count": 9,
     "metadata": {},
     "output_type": "execute_result"
    }
   ],
   "source": [
    "np.arcsin(value_of_output)\n"
   ]
  },
  {
   "cell_type": "code",
   "execution_count": 10,
   "id": "240ca107",
   "metadata": {},
   "outputs": [
    {
     "data": {
      "text/plain": [
       "array([-1.57079633,  0.        ,  1.57079633])"
      ]
     },
     "execution_count": 10,
     "metadata": {},
     "output_type": "execute_result"
    }
   ],
   "source": [
    "np.arcsin(value_of_output)"
   ]
  },
  {
   "cell_type": "code",
   "execution_count": 11,
   "id": "8d19a191",
   "metadata": {},
   "outputs": [
    {
     "name": "stdout",
     "output_type": "stream",
     "text": [
      "Original Array:\n",
      "[[1 2 3]\n",
      " [4 5 6]]\n",
      "Transposed Array:\n",
      "[[1 4]\n",
      " [2 5]\n",
      " [3 6]]\n"
     ]
    }
   ],
   "source": [
    "import numpy as np\n",
    "\n",
    "arr1 = np.array([[1, 2, 3], [4, 5, 6]])\n",
    "\n",
    "print(f'Original Array:\\n{arr1}')\n",
    "\n",
    "arr1_transpose = arr1.transpose()\n",
    "\n",
    "print(f'Transposed Array:\\n{arr1_transpose}')"
   ]
  },
  {
   "cell_type": "code",
   "execution_count": 16,
   "id": "d20bfe24",
   "metadata": {},
   "outputs": [],
   "source": [
    "arr=np.arange(3,3)"
   ]
  },
  {
   "cell_type": "code",
   "execution_count": 17,
   "id": "3369d5e0",
   "metadata": {},
   "outputs": [
    {
     "name": "stdout",
     "output_type": "stream",
     "text": [
      "[]\n"
     ]
    }
   ],
   "source": [
    "print(arr)"
   ]
  },
  {
   "cell_type": "code",
   "execution_count": 22,
   "id": "5b9c2108",
   "metadata": {},
   "outputs": [],
   "source": [
    "a4=np.arange(1,10)\n"
   ]
  },
  {
   "cell_type": "code",
   "execution_count": 24,
   "id": "6f146ce3",
   "metadata": {},
   "outputs": [
    {
     "data": {
      "text/plain": [
       "array([1, 2, 3, 4, 5, 6, 7, 8, 9])"
      ]
     },
     "execution_count": 24,
     "metadata": {},
     "output_type": "execute_result"
    }
   ],
   "source": [
    "a4"
   ]
  },
  {
   "cell_type": "code",
   "execution_count": 25,
   "id": "39c12665",
   "metadata": {},
   "outputs": [],
   "source": [
    "arr=a4.reshape(3,3)"
   ]
  },
  {
   "cell_type": "code",
   "execution_count": 29,
   "id": "52096abc",
   "metadata": {},
   "outputs": [
    {
     "data": {
      "text/plain": [
       "array([[1, 2, 3],\n",
       "       [4, 5, 6],\n",
       "       [7, 8, 9]])"
      ]
     },
     "execution_count": 29,
     "metadata": {},
     "output_type": "execute_result"
    }
   ],
   "source": [
    "arr"
   ]
  },
  {
   "cell_type": "code",
   "execution_count": 30,
   "id": "9cc0234d",
   "metadata": {},
   "outputs": [
    {
     "data": {
      "text/plain": [
       "array([[1, 4, 7],\n",
       "       [2, 5, 8],\n",
       "       [3, 6, 9]])"
      ]
     },
     "execution_count": 30,
     "metadata": {},
     "output_type": "execute_result"
    }
   ],
   "source": [
    "arr.transpose()"
   ]
  },
  {
   "cell_type": "code",
   "execution_count": 31,
   "id": "cdf22d7c",
   "metadata": {},
   "outputs": [],
   "source": [
    "?np.sin\n"
   ]
  },
  {
   "cell_type": "code",
   "execution_count": 32,
   "id": "b08f8e0a",
   "metadata": {},
   "outputs": [
    {
     "data": {
      "text/plain": [
       "0.7071067811865476"
      ]
     },
     "execution_count": 32,
     "metadata": {},
     "output_type": "execute_result"
    }
   ],
   "source": [
    "np.sin(np.pi/4)"
   ]
  },
  {
   "cell_type": "code",
   "execution_count": 35,
   "id": "4d61ef50",
   "metadata": {},
   "outputs": [],
   "source": [
    "val=(2**0.2)"
   ]
  },
  {
   "cell_type": "code",
   "execution_count": 37,
   "id": "8c531468",
   "metadata": {},
   "outputs": [
    {
     "data": {
      "text/plain": [
       "0.8705505632961241"
      ]
     },
     "execution_count": 37,
     "metadata": {},
     "output_type": "execute_result"
    }
   ],
   "source": [
    "1/val"
   ]
  },
  {
   "cell_type": "code",
   "execution_count": 39,
   "id": "cceb68ba",
   "metadata": {},
   "outputs": [
    {
     "data": {
      "text/plain": [
       "3.141592653589793"
      ]
     },
     "execution_count": 39,
     "metadata": {},
     "output_type": "execute_result"
    }
   ],
   "source": [
    "np.pi"
   ]
  },
  {
   "cell_type": "code",
   "execution_count": 42,
   "id": "16574c2b",
   "metadata": {},
   "outputs": [],
   "source": [
    "angle =np.linspace(0,np.pi,6)"
   ]
  },
  {
   "cell_type": "code",
   "execution_count": 43,
   "id": "8634eaf9",
   "metadata": {},
   "outputs": [
    {
     "data": {
      "text/plain": [
       "array([0.        , 0.62831853, 1.25663706, 1.88495559, 2.51327412,\n",
       "       3.14159265])"
      ]
     },
     "execution_count": 43,
     "metadata": {},
     "output_type": "execute_result"
    }
   ],
   "source": [
    "angle"
   ]
  },
  {
   "cell_type": "code",
   "execution_count": 52,
   "id": "9a6df32b",
   "metadata": {},
   "outputs": [
    {
     "data": {
      "text/plain": [
       "array([ 0.00000000e+00,  7.26542528e-01,  3.07768354e+00, -3.07768354e+00,\n",
       "       -7.26542528e-01, -1.22464680e-16])"
      ]
     },
     "execution_count": 52,
     "metadata": {},
     "output_type": "execute_result"
    }
   ],
   "source": [
    "np.tan(angle)"
   ]
  },
  {
   "cell_type": "code",
   "execution_count": 49,
   "id": "2ea79132",
   "metadata": {},
   "outputs": [
    {
     "data": {
      "text/plain": [
       "1.0"
      ]
     },
     "execution_count": 49,
     "metadata": {},
     "output_type": "execute_result"
    }
   ],
   "source": [
    "np.cos(0)"
   ]
  },
  {
   "cell_type": "code",
   "execution_count": 50,
   "id": "2e077da3",
   "metadata": {},
   "outputs": [
    {
     "data": {
      "text/plain": [
       "4.605170185988092"
      ]
     },
     "execution_count": 50,
     "metadata": {},
     "output_type": "execute_result"
    }
   ],
   "source": [
    "np.log(100)"
   ]
  },
  {
   "cell_type": "code",
   "execution_count": 53,
   "id": "36dd94f1",
   "metadata": {},
   "outputs": [
    {
     "data": {
      "text/plain": [
       "-1.995200412208242"
      ]
     },
     "execution_count": 53,
     "metadata": {},
     "output_type": "execute_result"
    }
   ],
   "source": [
    "np.tan(90)"
   ]
  },
  {
   "cell_type": "code",
   "execution_count": 54,
   "id": "476cf74b",
   "metadata": {},
   "outputs": [],
   "source": [
    "vales_of_output=[-1,0,1]"
   ]
  },
  {
   "cell_type": "code",
   "execution_count": 56,
   "id": "45dada04",
   "metadata": {},
   "outputs": [
    {
     "name": "stdout",
     "output_type": "stream",
     "text": [
      "Sin [-1.57079633  0.          1.57079633]\n",
      "Cos [3.14159265 1.57079633 0.        ]\n",
      "tan [-0.78539816  0.          0.78539816]\n"
     ]
    }
   ],
   "source": [
    "print(\"Sin\",np.arcsin(value_of_output))\n",
    "print(\"Cos\",np.arccos(value_of_output))\n",
    "print(\"tan\",np.arctan(value_of_output))"
   ]
  },
  {
   "cell_type": "code",
   "execution_count": 59,
   "id": "ed651c53",
   "metadata": {},
   "outputs": [],
   "source": [
    "val=np.sin(0)"
   ]
  },
  {
   "cell_type": "code",
   "execution_count": 71,
   "id": "e11a77a2",
   "metadata": {},
   "outputs": [
    {
     "ename": "ZeroDivisionError",
     "evalue": "division by zero",
     "output_type": "error",
     "traceback": [
      "\u001b[1;31m---------------------------------------------------------------------------\u001b[0m",
      "\u001b[1;31mZeroDivisionError\u001b[0m                         Traceback (most recent call last)",
      "\u001b[1;32m<ipython-input-71-ce2fecc67f04>\u001b[0m in \u001b[0;36m<module>\u001b[1;34m\u001b[0m\n\u001b[1;32m----> 1\u001b[1;33m \u001b[1;36m1\u001b[0m\u001b[1;33m/\u001b[0m\u001b[0mint\u001b[0m\u001b[1;33m(\u001b[0m\u001b[0mval\u001b[0m\u001b[1;33m)\u001b[0m\u001b[1;33m\u001b[0m\u001b[1;33m\u001b[0m\u001b[0m\n\u001b[0m",
      "\u001b[1;31mZeroDivisionError\u001b[0m: division by zero"
     ]
    }
   ],
   "source": []
  },
  {
   "cell_type": "code",
   "execution_count": 63,
   "id": "990b3718",
   "metadata": {},
   "outputs": [
    {
     "data": {
      "text/plain": [
       "3.0"
      ]
     },
     "execution_count": 63,
     "metadata": {},
     "output_type": "execute_result"
    }
   ],
   "source": [
    "np.log10(1000)"
   ]
  },
  {
   "cell_type": "code",
   "execution_count": 65,
   "id": "d6ab15c1",
   "metadata": {},
   "outputs": [],
   "source": [
    "?np.log"
   ]
  },
  {
   "cell_type": "code",
   "execution_count": 69,
   "id": "9b072680",
   "metadata": {},
   "outputs": [
    {
     "data": {
      "text/plain": [
       "8.0"
      ]
     },
     "execution_count": 69,
     "metadata": {},
     "output_type": "execute_result"
    }
   ],
   "source": [
    "np.log10(10**8)"
   ]
  },
  {
   "cell_type": "code",
   "execution_count": 70,
   "id": "d556e12f",
   "metadata": {},
   "outputs": [
    {
     "data": {
      "text/plain": [
       "2.0"
      ]
     },
     "execution_count": 70,
     "metadata": {},
     "output_type": "execute_result"
    }
   ],
   "source": [
    "np.log10(100)"
   ]
  },
  {
   "cell_type": "code",
   "execution_count": 72,
   "id": "6216ccd4",
   "metadata": {},
   "outputs": [],
   "source": [
    "log=[1,2,3]"
   ]
  },
  {
   "cell_type": "code",
   "execution_count": 78,
   "id": "d5bffc13",
   "metadata": {},
   "outputs": [
    {
     "data": {
      "text/plain": [
       "array([2., 4., 8.])"
      ]
     },
     "execution_count": 78,
     "metadata": {},
     "output_type": "execute_result"
    }
   ],
   "source": [
    "np.exp2(log)"
   ]
  },
  {
   "cell_type": "code",
   "execution_count": 79,
   "id": "38ccb2c6",
   "metadata": {},
   "outputs": [],
   "source": [
    "?np.exp"
   ]
  },
  {
   "cell_type": "code",
   "execution_count": 89,
   "id": "98042d6e",
   "metadata": {},
   "outputs": [],
   "source": [
    "log2=[1,2,4,6,8,10]"
   ]
  },
  {
   "cell_type": "code",
   "execution_count": 92,
   "id": "7c8dcb5b",
   "metadata": {},
   "outputs": [
    {
     "data": {
      "text/plain": [
       "array([0.        , 1.        , 2.        , 2.5849625 , 3.        ,\n",
       "       3.32192809])"
      ]
     },
     "execution_count": 92,
     "metadata": {},
     "output_type": "execute_result"
    }
   ],
   "source": [
    "np.log2(log2)"
   ]
  },
  {
   "cell_type": "code",
   "execution_count": 91,
   "id": "72977882",
   "metadata": {},
   "outputs": [
    {
     "data": {
      "text/plain": [
       "array([0.        , 0.30103   , 0.60205999, 0.77815125, 0.90308999,\n",
       "       1.        ])"
      ]
     },
     "execution_count": 91,
     "metadata": {},
     "output_type": "execute_result"
    }
   ],
   "source": [
    "np.log10(log2)"
   ]
  },
  {
   "cell_type": "code",
   "execution_count": 93,
   "id": "42a8b812",
   "metadata": {},
   "outputs": [],
   "source": [
    "log3=[0,0.002,0.0045,0.1]"
   ]
  },
  {
   "cell_type": "code",
   "execution_count": 94,
   "id": "132555b6",
   "metadata": {},
   "outputs": [
    {
     "data": {
      "text/plain": [
       "[0, 0.002, 0.0045, 0.1]"
      ]
     },
     "execution_count": 94,
     "metadata": {},
     "output_type": "execute_result"
    }
   ],
   "source": [
    "log3"
   ]
  },
  {
   "cell_type": "code",
   "execution_count": 96,
   "id": "9478f3d7",
   "metadata": {},
   "outputs": [
    {
     "data": {
      "text/plain": [
       "array([0.        , 0.002002  , 0.00451014, 0.10517092])"
      ]
     },
     "execution_count": 96,
     "metadata": {},
     "output_type": "execute_result"
    }
   ],
   "source": [
    "np.expm1(log3) # here 1 is callled of -1"
   ]
  },
  {
   "cell_type": "code",
   "execution_count": 99,
   "id": "6a66bd36",
   "metadata": {},
   "outputs": [
    {
     "data": {
      "text/plain": [
       "array([0.        , 0.001998  , 0.00448991, 0.09531018])"
      ]
     },
     "execution_count": 99,
     "metadata": {},
     "output_type": "execute_result"
    }
   ],
   "source": [
    "np.log1p(log3)#log(1+x)"
   ]
  },
  {
   "cell_type": "code",
   "execution_count": 100,
   "id": "0dc15a4f",
   "metadata": {},
   "outputs": [],
   "source": [
    "tri=np.array([np.pi/2])"
   ]
  },
  {
   "cell_type": "code",
   "execution_count": 101,
   "id": "9b5790e3",
   "metadata": {},
   "outputs": [
    {
     "data": {
      "text/plain": [
       "array([1.57079633])"
      ]
     },
     "execution_count": 101,
     "metadata": {},
     "output_type": "execute_result"
    }
   ],
   "source": [
    "tri"
   ]
  },
  {
   "cell_type": "code",
   "execution_count": 102,
   "id": "3c8a86fb",
   "metadata": {},
   "outputs": [
    {
     "data": {
      "text/plain": [
       "['ALLOW_THREADS',\n",
       " 'AxisError',\n",
       " 'BUFSIZE',\n",
       " 'Bytes0',\n",
       " 'CLIP',\n",
       " 'ComplexWarning',\n",
       " 'DataSource',\n",
       " 'Datetime64',\n",
       " 'ERR_CALL',\n",
       " 'ERR_DEFAULT',\n",
       " 'ERR_IGNORE',\n",
       " 'ERR_LOG',\n",
       " 'ERR_PRINT',\n",
       " 'ERR_RAISE',\n",
       " 'ERR_WARN',\n",
       " 'FLOATING_POINT_SUPPORT',\n",
       " 'FPE_DIVIDEBYZERO',\n",
       " 'FPE_INVALID',\n",
       " 'FPE_OVERFLOW',\n",
       " 'FPE_UNDERFLOW',\n",
       " 'False_',\n",
       " 'Inf',\n",
       " 'Infinity',\n",
       " 'MAXDIMS',\n",
       " 'MAY_SHARE_BOUNDS',\n",
       " 'MAY_SHARE_EXACT',\n",
       " 'MachAr',\n",
       " 'ModuleDeprecationWarning',\n",
       " 'NAN',\n",
       " 'NINF',\n",
       " 'NZERO',\n",
       " 'NaN',\n",
       " 'PINF',\n",
       " 'PZERO',\n",
       " 'RAISE',\n",
       " 'RankWarning',\n",
       " 'SHIFT_DIVIDEBYZERO',\n",
       " 'SHIFT_INVALID',\n",
       " 'SHIFT_OVERFLOW',\n",
       " 'SHIFT_UNDERFLOW',\n",
       " 'ScalarType',\n",
       " 'Str0',\n",
       " 'Tester',\n",
       " 'TooHardError',\n",
       " 'True_',\n",
       " 'UFUNC_BUFSIZE_DEFAULT',\n",
       " 'UFUNC_PYVALS_NAME',\n",
       " 'Uint64',\n",
       " 'VisibleDeprecationWarning',\n",
       " 'WRAP',\n",
       " '_NoValue',\n",
       " '_UFUNC_API',\n",
       " '__NUMPY_SETUP__',\n",
       " '__all__',\n",
       " '__builtins__',\n",
       " '__cached__',\n",
       " '__config__',\n",
       " '__deprecated_attrs__',\n",
       " '__dir__',\n",
       " '__doc__',\n",
       " '__expired_functions__',\n",
       " '__file__',\n",
       " '__getattr__',\n",
       " '__git_revision__',\n",
       " '__loader__',\n",
       " '__name__',\n",
       " '__package__',\n",
       " '__path__',\n",
       " '__spec__',\n",
       " '__version__',\n",
       " '_add_newdoc_ufunc',\n",
       " '_distributor_init',\n",
       " '_financial_names',\n",
       " '_globals',\n",
       " '_mat',\n",
       " '_pytesttester',\n",
       " 'abs',\n",
       " 'absolute',\n",
       " 'add',\n",
       " 'add_docstring',\n",
       " 'add_newdoc',\n",
       " 'add_newdoc_ufunc',\n",
       " 'alen',\n",
       " 'all',\n",
       " 'allclose',\n",
       " 'alltrue',\n",
       " 'amax',\n",
       " 'amin',\n",
       " 'angle',\n",
       " 'any',\n",
       " 'append',\n",
       " 'apply_along_axis',\n",
       " 'apply_over_axes',\n",
       " 'arange',\n",
       " 'arccos',\n",
       " 'arccosh',\n",
       " 'arcsin',\n",
       " 'arcsinh',\n",
       " 'arctan',\n",
       " 'arctan2',\n",
       " 'arctanh',\n",
       " 'argmax',\n",
       " 'argmin',\n",
       " 'argpartition',\n",
       " 'argsort',\n",
       " 'argwhere',\n",
       " 'around',\n",
       " 'array',\n",
       " 'array2string',\n",
       " 'array_equal',\n",
       " 'array_equiv',\n",
       " 'array_repr',\n",
       " 'array_split',\n",
       " 'array_str',\n",
       " 'asanyarray',\n",
       " 'asarray',\n",
       " 'asarray_chkfinite',\n",
       " 'ascontiguousarray',\n",
       " 'asfarray',\n",
       " 'asfortranarray',\n",
       " 'asmatrix',\n",
       " 'asscalar',\n",
       " 'atleast_1d',\n",
       " 'atleast_2d',\n",
       " 'atleast_3d',\n",
       " 'average',\n",
       " 'bartlett',\n",
       " 'base_repr',\n",
       " 'binary_repr',\n",
       " 'bincount',\n",
       " 'bitwise_and',\n",
       " 'bitwise_not',\n",
       " 'bitwise_or',\n",
       " 'bitwise_xor',\n",
       " 'blackman',\n",
       " 'block',\n",
       " 'bmat',\n",
       " 'bool8',\n",
       " 'bool_',\n",
       " 'broadcast',\n",
       " 'broadcast_arrays',\n",
       " 'broadcast_shapes',\n",
       " 'broadcast_to',\n",
       " 'busday_count',\n",
       " 'busday_offset',\n",
       " 'busdaycalendar',\n",
       " 'byte',\n",
       " 'byte_bounds',\n",
       " 'bytes0',\n",
       " 'bytes_',\n",
       " 'c_',\n",
       " 'can_cast',\n",
       " 'cast',\n",
       " 'cbrt',\n",
       " 'cdouble',\n",
       " 'ceil',\n",
       " 'cfloat',\n",
       " 'char',\n",
       " 'character',\n",
       " 'chararray',\n",
       " 'choose',\n",
       " 'clip',\n",
       " 'clongdouble',\n",
       " 'clongfloat',\n",
       " 'column_stack',\n",
       " 'common_type',\n",
       " 'compare_chararrays',\n",
       " 'compat',\n",
       " 'complex128',\n",
       " 'complex64',\n",
       " 'complex_',\n",
       " 'complexfloating',\n",
       " 'compress',\n",
       " 'concatenate',\n",
       " 'conj',\n",
       " 'conjugate',\n",
       " 'convolve',\n",
       " 'copy',\n",
       " 'copysign',\n",
       " 'copyto',\n",
       " 'core',\n",
       " 'corrcoef',\n",
       " 'correlate',\n",
       " 'cos',\n",
       " 'cosh',\n",
       " 'count_nonzero',\n",
       " 'cov',\n",
       " 'cross',\n",
       " 'csingle',\n",
       " 'ctypeslib',\n",
       " 'cumprod',\n",
       " 'cumproduct',\n",
       " 'cumsum',\n",
       " 'datetime64',\n",
       " 'datetime_as_string',\n",
       " 'datetime_data',\n",
       " 'deg2rad',\n",
       " 'degrees',\n",
       " 'delete',\n",
       " 'deprecate',\n",
       " 'deprecate_with_doc',\n",
       " 'diag',\n",
       " 'diag_indices',\n",
       " 'diag_indices_from',\n",
       " 'diagflat',\n",
       " 'diagonal',\n",
       " 'diff',\n",
       " 'digitize',\n",
       " 'disp',\n",
       " 'divide',\n",
       " 'divmod',\n",
       " 'dot',\n",
       " 'double',\n",
       " 'dsplit',\n",
       " 'dstack',\n",
       " 'dtype',\n",
       " 'e',\n",
       " 'ediff1d',\n",
       " 'einsum',\n",
       " 'einsum_path',\n",
       " 'emath',\n",
       " 'empty',\n",
       " 'empty_like',\n",
       " 'equal',\n",
       " 'errstate',\n",
       " 'euler_gamma',\n",
       " 'exp',\n",
       " 'exp2',\n",
       " 'expand_dims',\n",
       " 'expm1',\n",
       " 'extract',\n",
       " 'eye',\n",
       " 'fabs',\n",
       " 'fastCopyAndTranspose',\n",
       " 'fft',\n",
       " 'fill_diagonal',\n",
       " 'find_common_type',\n",
       " 'finfo',\n",
       " 'fix',\n",
       " 'flatiter',\n",
       " 'flatnonzero',\n",
       " 'flexible',\n",
       " 'flip',\n",
       " 'fliplr',\n",
       " 'flipud',\n",
       " 'float16',\n",
       " 'float32',\n",
       " 'float64',\n",
       " 'float_',\n",
       " 'float_power',\n",
       " 'floating',\n",
       " 'floor',\n",
       " 'floor_divide',\n",
       " 'fmax',\n",
       " 'fmin',\n",
       " 'fmod',\n",
       " 'format_float_positional',\n",
       " 'format_float_scientific',\n",
       " 'format_parser',\n",
       " 'frexp',\n",
       " 'frombuffer',\n",
       " 'fromfile',\n",
       " 'fromfunction',\n",
       " 'fromiter',\n",
       " 'frompyfunc',\n",
       " 'fromregex',\n",
       " 'fromstring',\n",
       " 'full',\n",
       " 'full_like',\n",
       " 'gcd',\n",
       " 'generic',\n",
       " 'genfromtxt',\n",
       " 'geomspace',\n",
       " 'get_array_wrap',\n",
       " 'get_include',\n",
       " 'get_printoptions',\n",
       " 'getbufsize',\n",
       " 'geterr',\n",
       " 'geterrcall',\n",
       " 'geterrobj',\n",
       " 'gradient',\n",
       " 'greater',\n",
       " 'greater_equal',\n",
       " 'half',\n",
       " 'hamming',\n",
       " 'hanning',\n",
       " 'heaviside',\n",
       " 'histogram',\n",
       " 'histogram2d',\n",
       " 'histogram_bin_edges',\n",
       " 'histogramdd',\n",
       " 'hsplit',\n",
       " 'hstack',\n",
       " 'hypot',\n",
       " 'i0',\n",
       " 'identity',\n",
       " 'iinfo',\n",
       " 'imag',\n",
       " 'in1d',\n",
       " 'index_exp',\n",
       " 'indices',\n",
       " 'inexact',\n",
       " 'inf',\n",
       " 'info',\n",
       " 'infty',\n",
       " 'inner',\n",
       " 'insert',\n",
       " 'int0',\n",
       " 'int16',\n",
       " 'int32',\n",
       " 'int64',\n",
       " 'int8',\n",
       " 'int_',\n",
       " 'intc',\n",
       " 'integer',\n",
       " 'interp',\n",
       " 'intersect1d',\n",
       " 'intp',\n",
       " 'invert',\n",
       " 'is_busday',\n",
       " 'isclose',\n",
       " 'iscomplex',\n",
       " 'iscomplexobj',\n",
       " 'isfinite',\n",
       " 'isfortran',\n",
       " 'isin',\n",
       " 'isinf',\n",
       " 'isnan',\n",
       " 'isnat',\n",
       " 'isneginf',\n",
       " 'isposinf',\n",
       " 'isreal',\n",
       " 'isrealobj',\n",
       " 'isscalar',\n",
       " 'issctype',\n",
       " 'issubclass_',\n",
       " 'issubdtype',\n",
       " 'issubsctype',\n",
       " 'iterable',\n",
       " 'ix_',\n",
       " 'kaiser',\n",
       " 'kron',\n",
       " 'lcm',\n",
       " 'ldexp',\n",
       " 'left_shift',\n",
       " 'less',\n",
       " 'less_equal',\n",
       " 'lexsort',\n",
       " 'lib',\n",
       " 'linalg',\n",
       " 'linspace',\n",
       " 'little_endian',\n",
       " 'load',\n",
       " 'loads',\n",
       " 'loadtxt',\n",
       " 'log',\n",
       " 'log10',\n",
       " 'log1p',\n",
       " 'log2',\n",
       " 'logaddexp',\n",
       " 'logaddexp2',\n",
       " 'logical_and',\n",
       " 'logical_not',\n",
       " 'logical_or',\n",
       " 'logical_xor',\n",
       " 'logspace',\n",
       " 'longcomplex',\n",
       " 'longdouble',\n",
       " 'longfloat',\n",
       " 'longlong',\n",
       " 'lookfor',\n",
       " 'ma',\n",
       " 'mafromtxt',\n",
       " 'mask_indices',\n",
       " 'mat',\n",
       " 'math',\n",
       " 'matmul',\n",
       " 'matrix',\n",
       " 'matrixlib',\n",
       " 'max',\n",
       " 'maximum',\n",
       " 'maximum_sctype',\n",
       " 'may_share_memory',\n",
       " 'mean',\n",
       " 'median',\n",
       " 'memmap',\n",
       " 'meshgrid',\n",
       " 'mgrid',\n",
       " 'min',\n",
       " 'min_scalar_type',\n",
       " 'minimum',\n",
       " 'mintypecode',\n",
       " 'mod',\n",
       " 'modf',\n",
       " 'moveaxis',\n",
       " 'msort',\n",
       " 'multiply',\n",
       " 'nan',\n",
       " 'nan_to_num',\n",
       " 'nanargmax',\n",
       " 'nanargmin',\n",
       " 'nancumprod',\n",
       " 'nancumsum',\n",
       " 'nanmax',\n",
       " 'nanmean',\n",
       " 'nanmedian',\n",
       " 'nanmin',\n",
       " 'nanpercentile',\n",
       " 'nanprod',\n",
       " 'nanquantile',\n",
       " 'nanstd',\n",
       " 'nansum',\n",
       " 'nanvar',\n",
       " 'nbytes',\n",
       " 'ndarray',\n",
       " 'ndenumerate',\n",
       " 'ndfromtxt',\n",
       " 'ndim',\n",
       " 'ndindex',\n",
       " 'nditer',\n",
       " 'negative',\n",
       " 'nested_iters',\n",
       " 'newaxis',\n",
       " 'nextafter',\n",
       " 'nonzero',\n",
       " 'not_equal',\n",
       " 'numarray',\n",
       " 'number',\n",
       " 'obj2sctype',\n",
       " 'object0',\n",
       " 'object_',\n",
       " 'ogrid',\n",
       " 'oldnumeric',\n",
       " 'ones',\n",
       " 'ones_like',\n",
       " 'os',\n",
       " 'outer',\n",
       " 'packbits',\n",
       " 'pad',\n",
       " 'partition',\n",
       " 'percentile',\n",
       " 'pi',\n",
       " 'piecewise',\n",
       " 'place',\n",
       " 'poly',\n",
       " 'poly1d',\n",
       " 'polyadd',\n",
       " 'polyder',\n",
       " 'polydiv',\n",
       " 'polyfit',\n",
       " 'polyint',\n",
       " 'polymul',\n",
       " 'polynomial',\n",
       " 'polysub',\n",
       " 'polyval',\n",
       " 'positive',\n",
       " 'power',\n",
       " 'printoptions',\n",
       " 'prod',\n",
       " 'product',\n",
       " 'promote_types',\n",
       " 'ptp',\n",
       " 'put',\n",
       " 'put_along_axis',\n",
       " 'putmask',\n",
       " 'quantile',\n",
       " 'r_',\n",
       " 'rad2deg',\n",
       " 'radians',\n",
       " 'random',\n",
       " 'ravel',\n",
       " 'ravel_multi_index',\n",
       " 'real',\n",
       " 'real_if_close',\n",
       " 'rec',\n",
       " 'recarray',\n",
       " 'recfromcsv',\n",
       " 'recfromtxt',\n",
       " 'reciprocal',\n",
       " 'record',\n",
       " 'remainder',\n",
       " 'repeat',\n",
       " 'require',\n",
       " 'reshape',\n",
       " 'resize',\n",
       " 'result_type',\n",
       " 'right_shift',\n",
       " 'rint',\n",
       " 'roll',\n",
       " 'rollaxis',\n",
       " 'roots',\n",
       " 'rot90',\n",
       " 'round',\n",
       " 'round_',\n",
       " 'row_stack',\n",
       " 's_',\n",
       " 'safe_eval',\n",
       " 'save',\n",
       " 'savetxt',\n",
       " 'savez',\n",
       " 'savez_compressed',\n",
       " 'sctype2char',\n",
       " 'sctypeDict',\n",
       " 'sctypes',\n",
       " 'searchsorted',\n",
       " 'select',\n",
       " 'set_numeric_ops',\n",
       " 'set_printoptions',\n",
       " 'set_string_function',\n",
       " 'setbufsize',\n",
       " 'setdiff1d',\n",
       " 'seterr',\n",
       " 'seterrcall',\n",
       " 'seterrobj',\n",
       " 'setxor1d',\n",
       " 'shape',\n",
       " 'shares_memory',\n",
       " 'short',\n",
       " 'show_config',\n",
       " 'sign',\n",
       " 'signbit',\n",
       " 'signedinteger',\n",
       " 'sin',\n",
       " 'sinc',\n",
       " 'single',\n",
       " 'singlecomplex',\n",
       " 'sinh',\n",
       " 'size',\n",
       " 'sometrue',\n",
       " 'sort',\n",
       " 'sort_complex',\n",
       " 'source',\n",
       " 'spacing',\n",
       " 'split',\n",
       " 'sqrt',\n",
       " 'square',\n",
       " 'squeeze',\n",
       " 'stack',\n",
       " 'std',\n",
       " 'str0',\n",
       " 'str_',\n",
       " 'string_',\n",
       " 'subtract',\n",
       " 'sum',\n",
       " 'swapaxes',\n",
       " 'sys',\n",
       " 'take',\n",
       " 'take_along_axis',\n",
       " 'tan',\n",
       " 'tanh',\n",
       " 'tensordot',\n",
       " 'test',\n",
       " 'testing',\n",
       " 'tile',\n",
       " 'timedelta64',\n",
       " 'trace',\n",
       " 'tracemalloc_domain',\n",
       " 'transpose',\n",
       " 'trapz',\n",
       " 'tri',\n",
       " 'tril',\n",
       " 'tril_indices',\n",
       " 'tril_indices_from',\n",
       " 'trim_zeros',\n",
       " 'triu',\n",
       " 'triu_indices',\n",
       " 'triu_indices_from',\n",
       " 'true_divide',\n",
       " 'trunc',\n",
       " 'typeDict',\n",
       " 'typecodes',\n",
       " 'typename',\n",
       " 'ubyte',\n",
       " 'ufunc',\n",
       " 'uint',\n",
       " 'uint0',\n",
       " 'uint16',\n",
       " 'uint32',\n",
       " 'uint64',\n",
       " 'uint8',\n",
       " 'uintc',\n",
       " 'uintp',\n",
       " 'ulonglong',\n",
       " 'unicode_',\n",
       " 'union1d',\n",
       " 'unique',\n",
       " 'unpackbits',\n",
       " 'unravel_index',\n",
       " 'unsignedinteger',\n",
       " 'unwrap',\n",
       " 'use_hugepage',\n",
       " 'ushort',\n",
       " 'vander',\n",
       " 'var',\n",
       " 'vdot',\n",
       " 'vectorize',\n",
       " 'version',\n",
       " 'void',\n",
       " 'void0',\n",
       " 'vsplit',\n",
       " 'vstack',\n",
       " 'warnings',\n",
       " 'where',\n",
       " 'who',\n",
       " 'zeros',\n",
       " 'zeros_like']"
      ]
     },
     "execution_count": 102,
     "metadata": {},
     "output_type": "execute_result"
    }
   ],
   "source": [
    "dir(np)"
   ]
  },
  {
   "cell_type": "code",
   "execution_count": 103,
   "id": "94dceaea",
   "metadata": {},
   "outputs": [
    {
     "data": {
      "text/plain": [
       "11013.232874703393"
      ]
     },
     "execution_count": 103,
     "metadata": {},
     "output_type": "execute_result"
    }
   ],
   "source": [
    "np.sinh(10)"
   ]
  },
  {
   "cell_type": "code",
   "execution_count": 105,
   "id": "aa8abd45",
   "metadata": {},
   "outputs": [],
   "source": [
    "##aggregate function\n",
    "ag=np.random.randint(10,size=(3,4))"
   ]
  },
  {
   "cell_type": "code",
   "execution_count": 106,
   "id": "d6a37ed1",
   "metadata": {},
   "outputs": [
    {
     "data": {
      "text/plain": [
       "array([[3, 5, 9, 4],\n",
       "       [7, 1, 7, 2],\n",
       "       [5, 5, 5, 8]])"
      ]
     },
     "execution_count": 106,
     "metadata": {},
     "output_type": "execute_result"
    }
   ],
   "source": [
    "ag"
   ]
  },
  {
   "cell_type": "code",
   "execution_count": 107,
   "id": "96cbe193",
   "metadata": {},
   "outputs": [
    {
     "data": {
      "text/plain": [
       "61"
      ]
     },
     "execution_count": 107,
     "metadata": {},
     "output_type": "execute_result"
    }
   ],
   "source": [
    "ag.sum()"
   ]
  },
  {
   "cell_type": "code",
   "execution_count": 108,
   "id": "7836db76",
   "metadata": {},
   "outputs": [
    {
     "data": {
      "text/plain": [
       "9"
      ]
     },
     "execution_count": 108,
     "metadata": {},
     "output_type": "execute_result"
    }
   ],
   "source": [
    "ag.max()"
   ]
  },
  {
   "cell_type": "code",
   "execution_count": 109,
   "id": "1586dd7d",
   "metadata": {},
   "outputs": [
    {
     "data": {
      "text/plain": [
       "1"
      ]
     },
     "execution_count": 109,
     "metadata": {},
     "output_type": "execute_result"
    }
   ],
   "source": [
    "ag.min()"
   ]
  },
  {
   "cell_type": "code",
   "execution_count": 110,
   "id": "d4d0f06c",
   "metadata": {},
   "outputs": [
    {
     "data": {
      "text/plain": [
       "2.2897719440056807"
      ]
     },
     "execution_count": 110,
     "metadata": {},
     "output_type": "execute_result"
    }
   ],
   "source": [
    "ag.std()"
   ]
  },
  {
   "cell_type": "code",
   "execution_count": 111,
   "id": "2af7a1e1",
   "metadata": {},
   "outputs": [
    {
     "data": {
      "text/plain": [
       "5.083333333333333"
      ]
     },
     "execution_count": 111,
     "metadata": {},
     "output_type": "execute_result"
    }
   ],
   "source": [
    "ag.mean()#standered devision"
   ]
  },
  {
   "cell_type": "code",
   "execution_count": 113,
   "id": "9a85414c",
   "metadata": {},
   "outputs": [
    {
     "ename": "NameError",
     "evalue": "name 'median' is not defined",
     "output_type": "error",
     "traceback": [
      "\u001b[1;31m---------------------------------------------------------------------------\u001b[0m",
      "\u001b[1;31mNameError\u001b[0m                                 Traceback (most recent call last)",
      "\u001b[1;32m<ipython-input-113-580f296977d8>\u001b[0m in \u001b[0;36m<module>\u001b[1;34m\u001b[0m\n\u001b[1;32m----> 1\u001b[1;33m \u001b[0mmedian\u001b[0m\u001b[1;33m(\u001b[0m\u001b[0mag\u001b[0m\u001b[1;33m)\u001b[0m\u001b[1;33m\u001b[0m\u001b[1;33m\u001b[0m\u001b[0m\n\u001b[0m",
      "\u001b[1;31mNameError\u001b[0m: name 'median' is not defined"
     ]
    }
   ],
   "source": [
    "median(ag)"
   ]
  },
  {
   "cell_type": "code",
   "execution_count": 115,
   "id": "9b024870",
   "metadata": {},
   "outputs": [
    {
     "data": {
      "text/plain": [
       "5.0"
      ]
     },
     "execution_count": 115,
     "metadata": {},
     "output_type": "execute_result"
    }
   ],
   "source": [
    "np.median(ag)"
   ]
  },
  {
   "cell_type": "code",
   "execution_count": 118,
   "id": "f74e61a9",
   "metadata": {},
   "outputs": [
    {
     "data": {
      "text/plain": [
       "True"
      ]
     },
     "execution_count": 118,
     "metadata": {},
     "output_type": "execute_result"
    }
   ],
   "source": [
    "np.any(ag)"
   ]
  },
  {
   "cell_type": "code",
   "execution_count": 119,
   "id": "20044d65",
   "metadata": {},
   "outputs": [
    {
     "data": {
      "text/plain": [
       "5.2430555555555545"
      ]
     },
     "execution_count": 119,
     "metadata": {},
     "output_type": "execute_result"
    }
   ],
   "source": [
    "np.var(ag)"
   ]
  },
  {
   "cell_type": "markdown",
   "id": "c42c85a2",
   "metadata": {},
   "source": [
    "## Numpy All function\n",
    "- np.min(*arg)\n",
    "- np.max(*arg)\n",
    "- np.sum(*arg) **\n",
    "- np.std(*arg)**\n",
    "- np.var(*arg)**\n",
    "- np.median(*arg)\n",
    "- np.all(*arg)\n",
    "- np.min(*arg)\n",
    "- np.mean(*arg)**\n",
    "- np.Any(*arg)"
   ]
  },
  {
   "cell_type": "code",
   "execution_count": null,
   "id": "b54eb616",
   "metadata": {},
   "outputs": [],
   "source": []
  }
 ],
 "metadata": {
  "kernelspec": {
   "display_name": "Python 3",
   "language": "python",
   "name": "python3"
  },
  "language_info": {
   "codemirror_mode": {
    "name": "ipython",
    "version": 3
   },
   "file_extension": ".py",
   "mimetype": "text/x-python",
   "name": "python",
   "nbconvert_exporter": "python",
   "pygments_lexer": "ipython3",
   "version": "3.9.1"
  }
 },
 "nbformat": 4,
 "nbformat_minor": 5
}
