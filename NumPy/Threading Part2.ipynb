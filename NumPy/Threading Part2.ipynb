{
 "cells": [
  {
   "cell_type": "code",
   "execution_count": 26,
   "id": "14ade16e",
   "metadata": {},
   "outputs": [],
   "source": [
    "from threading import *\n",
    "class ex2:\n",
    "    def new(self):\n",
    "        lst=[1,2,3,4,'class']\n",
    "        for i in lst:\n",
    "            print(\"child executing\",i)\n",
    "objectex=ex2()"
   ]
  },
  {
   "cell_type": "code",
   "execution_count": 27,
   "id": "aeb285e0",
   "metadata": {},
   "outputs": [],
   "source": [
    "t1=Thread(target=objectex.new)"
   ]
  },
  {
   "cell_type": "code",
   "execution_count": 29,
   "id": "a137f6e5",
   "metadata": {},
   "outputs": [
    {
     "data": {
      "text/plain": [
       "<Thread(Thread-6, initial)>"
      ]
     },
     "execution_count": 29,
     "metadata": {},
     "output_type": "execute_result"
    }
   ],
   "source": [
    "t1"
   ]
  },
  {
   "cell_type": "code",
   "execution_count": null,
   "id": "4cb4b5bb",
   "metadata": {},
   "outputs": [],
   "source": [
    "t.sta"
   ]
  }
 ],
 "metadata": {
  "kernelspec": {
   "display_name": "Python 3",
   "language": "python",
   "name": "python3"
  },
  "language_info": {
   "codemirror_mode": {
    "name": "ipython",
    "version": 3
   },
   "file_extension": ".py",
   "mimetype": "text/x-python",
   "name": "python",
   "nbconvert_exporter": "python",
   "pygments_lexer": "ipython3",
   "version": "3.9.1"
  }
 },
 "nbformat": 4,
 "nbformat_minor": 5
}
