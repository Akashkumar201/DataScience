{
 "cells": [
  {
   "cell_type": "code",
   "execution_count": 1,
   "metadata": {},
   "outputs": [
    {
     "name": "stdout",
     "output_type": "stream",
     "text": [
      "{\"Akash\": {\"name\": \"Akash\", \"Adress\": \"Arrah Bihar bhojpur\", \"phone\": 852150}, \"Vikrant\": {\"name\": \"Vikrant\", \"Adress\": \"Chhapra Bihar bhojpur\", \"phone\": 8085}}\n"
     ]
    }
   ],
   "source": [
    "book = {}\n",
    "book['Akash']={\n",
    "    'name':'Akash',\n",
    "    'Adress':'Arrah Bihar bhojpur',\n",
    "    'phone':852150\n",
    "}\n",
    "book['Vikrant']={\n",
    "    'name':'Vikrant',\n",
    "    'Adress':'Chhapra Bihar bhojpur',\n",
    "    'phone':8085\n",
    "}\n",
    "import json\n",
    "s=json.dumps(book)\n",
    "\n"
   ]
  },
  {
   "cell_type": "code",
   "execution_count": 3,
   "metadata": {},
   "outputs": [],
   "source": [
    "book = {}\n",
    "book['Akash']={\n",
    "    'name':'Akash',\n",
    "    'Adress':'Arrah Bihar bhojpur',\n",
    "    'phone':852150\n",
    "}\n",
    "book['Vikrant']={\n",
    "    'name':'Vikrant',\n",
    "    'Adress':'Chhapra Bihar bhojpur',\n",
    "    'phone':8085\n",
    "}\n",
    "import json\n",
    "s=json.dumps(book)\n",
    "\n",
    "with open(\"D://SEMINAR//book.txt\",\"w\") as f:\n",
    "    f.write(s)"
   ]
  },
  {
   "cell_type": "code",
   "execution_count": 4,
   "metadata": {},
   "outputs": [],
   "source": [
    "f=open(\"D://SEMINAR//book.txt\",\"r\")\n",
    "s=f.read()"
   ]
  },
  {
   "cell_type": "code",
   "execution_count": 5,
   "metadata": {},
   "outputs": [
    {
     "data": {
      "text/plain": [
       "'{\"Akash\": {\"name\": \"Akash\", \"Adress\": \"Arrah Bihar bhojpur\", \"phone\": 852150}, \"Vikrant\": {\"name\": \"Vikrant\", \"Adress\": \"Chhapra Bihar bhojpur\", \"phone\": 8085}}'"
      ]
     },
     "execution_count": 5,
     "metadata": {},
     "output_type": "execute_result"
    }
   ],
   "source": [
    "s"
   ]
  },
  {
   "cell_type": "code",
   "execution_count": 6,
   "metadata": {},
   "outputs": [
    {
     "data": {
      "text/plain": [
       "{'Akash': {'name': 'Akash', 'Adress': 'Arrah Bihar bhojpur', 'phone': 852150},\n",
       " 'Vikrant': {'name': 'Vikrant',\n",
       "  'Adress': 'Chhapra Bihar bhojpur',\n",
       "  'phone': 8085}}"
      ]
     },
     "execution_count": 6,
     "metadata": {},
     "output_type": "execute_result"
    }
   ],
   "source": [
    "import json\n",
    "book=json.loads(s)\n",
    "book"
   ]
  },
  {
   "cell_type": "code",
   "execution_count": 7,
   "metadata": {},
   "outputs": [
    {
     "data": {
      "text/plain": [
       "dict"
      ]
     },
     "execution_count": 7,
     "metadata": {},
     "output_type": "execute_result"
    }
   ],
   "source": [
    "type(book)"
   ]
  },
  {
   "cell_type": "code",
   "execution_count": 9,
   "metadata": {},
   "outputs": [
    {
     "data": {
      "text/plain": [
       "{'name': 'Akash', 'Adress': 'Arrah Bihar bhojpur', 'phone': 852150}"
      ]
     },
     "execution_count": 9,
     "metadata": {},
     "output_type": "execute_result"
    }
   ],
   "source": [
    "book['Akash']"
   ]
  },
  {
   "cell_type": "code",
   "execution_count": 10,
   "metadata": {},
   "outputs": [
    {
     "data": {
      "text/plain": [
       "'__main__'"
      ]
     },
     "execution_count": 10,
     "metadata": {},
     "output_type": "execute_result"
    }
   ],
   "source": [
    "__name__"
   ]
  },
  {
   "cell_type": "code",
   "execution_count": 15,
   "metadata": {},
   "outputs": [
    {
     "name": "stdout",
     "output_type": "stream",
     "text": [
      "I am in area.py\n",
      "__name__ __main__\n",
      "area:  100.0\n"
     ]
    }
   ],
   "source": [
    "def calculate(base,height):\n",
    "    print(\"__name__\",__name__)\n",
    "    return 0.5*(base*height)\n",
    "\n",
    "if __name__==\"__main__\":\n",
    "    print(\"I am in area.py\")\n",
    "    a=calculate(10,20)\n",
    "    print(\"area: \",a)"
   ]
  },
  {
   "cell_type": "code",
   "execution_count": 16,
   "metadata": {},
   "outputs": [
    {
     "name": "stdout",
     "output_type": "stream",
     "text": [
      "I am in caller.py\n",
      "__name__ __main__\n"
     ]
    },
    {
     "data": {
      "text/plain": [
       "25.0"
      ]
     },
     "execution_count": 16,
     "metadata": {},
     "output_type": "execute_result"
    }
   ],
   "source": [
    "\n",
    "print(\"I am in caller.py\")\n",
    "calculate(5,10)"
   ]
  },
  {
   "cell_type": "code",
   "execution_count": null,
   "metadata": {},
   "outputs": [],
   "source": []
  },
  {
   "cell_type": "code",
   "execution_count": null,
   "metadata": {},
   "outputs": [],
   "source": []
  }
 ],
 "metadata": {
  "kernelspec": {
   "display_name": "Python 3",
   "language": "python",
   "name": "python3"
  },
  "language_info": {
   "codemirror_mode": {
    "name": "ipython",
    "version": 3
   },
   "file_extension": ".py",
   "mimetype": "text/x-python",
   "name": "python",
   "nbconvert_exporter": "python",
   "pygments_lexer": "ipython3",
   "version": "3.7.4"
  }
 },
 "nbformat": 4,
 "nbformat_minor": 2
}
